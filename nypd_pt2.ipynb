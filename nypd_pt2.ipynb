{
 "cells": [
  {
   "cell_type": "markdown",
   "metadata": {},
   "source": [
    "# NYPD Allegations"
   ]
  },
  {
   "cell_type": "markdown",
   "metadata": {},
   "source": [
    "# Summary of Findings\n",
    "\n",
    "\n",
    "### Introduction\n",
    "In my first project with this dataset, I analyzed whether the severeness of the officer's punishment was significantly correlated with the complainant being a different gender from the officer. A big portion of the data was unusable due to the missingness in the complainant gender column however, which may have had an impact on the permutation test. \n",
    "\n",
    "To remedy such a possible bias in data, I will create a classifier to predict the gender of the complainant given the other features in the nypd data. Because of the disproportion between males and females in the complainant_gender feature, I will evaluate the f1-score of the model because we want the model to accurately the rare case of the complainant being female.\n",
    "\n",
    "We also decide that the classifier predicts **1 for female, and 0 for male**.\n",
    "\n",
    "### Baseline Model\n",
    "We fit a DecisionTreeClassifier. The model takes in 13 features, in which 3 are quantitative, 1 is ordinal, and 9 are nominal.\n",
    "\n",
    "### Final Model\n",
    "We engineer three new features:\n",
    "- age scaled by precinct, which may work due to different precincts having different ages and populations\n",
    "- old_age classified by complainants over 60, as the older the age, the more likely the complainant is female.\n",
    "- Binarized age difference, where age differences over 10 are more likely to be female than the rest of the differences.\n",
    "\n",
    "We also determine the best depth for the DecisionTreesClassifier, and also determine other models, which all perform worse than the classifier.\n",
    "\n",
    "### Fairness Evaluation\n",
    "We evaluate whether the model is fair for complainants that were arrested and not arrested, using the difference in accuracy as our test statistic. We use accuracy because if the model uses the outcome as a significant factor in determining gender, there should be a big gap in accuracy. "
   ]
  },
  {
   "cell_type": "markdown",
   "metadata": {},
   "source": [
    "# Code"
   ]
  },
  {
   "cell_type": "code",
   "execution_count": 1,
   "metadata": {},
   "outputs": [],
   "source": [
    "import matplotlib.pyplot as plt\n",
    "import numpy as np\n",
    "import os\n",
    "import pandas as pd\n",
    "import seaborn as sns\n",
    "%matplotlib inline\n",
    "%config InlineBackend.figure_format = 'retina'  # Higher resolution figures"
   ]
  },
  {
   "cell_type": "code",
   "execution_count": 2,
   "metadata": {},
   "outputs": [],
   "source": [
    "import re"
   ]
  },
  {
   "cell_type": "code",
   "execution_count": 3,
   "metadata": {},
   "outputs": [],
   "source": [
    "from lab import StdScalerByGroup\n",
    "from sklearn.neighbors import KNeighborsClassifier\n",
    "from sklearn.linear_model import LogisticRegression\n",
    "%load_ext autoreload\n",
    "%autoreload 2"
   ]
  },
  {
   "cell_type": "code",
   "execution_count": 4,
   "metadata": {},
   "outputs": [
    {
     "data": {
      "text/html": [
       "<div>\n",
       "<style scoped>\n",
       "    .dataframe tbody tr th:only-of-type {\n",
       "        vertical-align: middle;\n",
       "    }\n",
       "\n",
       "    .dataframe tbody tr th {\n",
       "        vertical-align: top;\n",
       "    }\n",
       "\n",
       "    .dataframe thead th {\n",
       "        text-align: right;\n",
       "    }\n",
       "</style>\n",
       "<table border=\"1\" class=\"dataframe\">\n",
       "  <thead>\n",
       "    <tr style=\"text-align: right;\">\n",
       "      <th></th>\n",
       "      <th>unique_mos_id</th>\n",
       "      <th>first_name</th>\n",
       "      <th>last_name</th>\n",
       "      <th>command_now</th>\n",
       "      <th>shield_no</th>\n",
       "      <th>complaint_id</th>\n",
       "      <th>month_received</th>\n",
       "      <th>year_received</th>\n",
       "      <th>month_closed</th>\n",
       "      <th>year_closed</th>\n",
       "      <th>...</th>\n",
       "      <th>mos_age_incident</th>\n",
       "      <th>complainant_ethnicity</th>\n",
       "      <th>complainant_gender</th>\n",
       "      <th>complainant_age_incident</th>\n",
       "      <th>fado_type</th>\n",
       "      <th>allegation</th>\n",
       "      <th>precinct</th>\n",
       "      <th>contact_reason</th>\n",
       "      <th>outcome_description</th>\n",
       "      <th>board_disposition</th>\n",
       "    </tr>\n",
       "  </thead>\n",
       "  <tbody>\n",
       "    <tr>\n",
       "      <th>0</th>\n",
       "      <td>10004</td>\n",
       "      <td>Jonathan</td>\n",
       "      <td>Ruiz</td>\n",
       "      <td>078 PCT</td>\n",
       "      <td>8409</td>\n",
       "      <td>42835</td>\n",
       "      <td>7</td>\n",
       "      <td>2019</td>\n",
       "      <td>5</td>\n",
       "      <td>2020</td>\n",
       "      <td>...</td>\n",
       "      <td>32</td>\n",
       "      <td>Black</td>\n",
       "      <td>Female</td>\n",
       "      <td>38.0</td>\n",
       "      <td>Abuse of Authority</td>\n",
       "      <td>Failure to provide RTKA card</td>\n",
       "      <td>78.0</td>\n",
       "      <td>Report-domestic dispute</td>\n",
       "      <td>No arrest made or summons issued</td>\n",
       "      <td>Substantiated (Command Lvl Instructions)</td>\n",
       "    </tr>\n",
       "    <tr>\n",
       "      <th>1</th>\n",
       "      <td>10007</td>\n",
       "      <td>John</td>\n",
       "      <td>Sears</td>\n",
       "      <td>078 PCT</td>\n",
       "      <td>5952</td>\n",
       "      <td>24601</td>\n",
       "      <td>11</td>\n",
       "      <td>2011</td>\n",
       "      <td>8</td>\n",
       "      <td>2012</td>\n",
       "      <td>...</td>\n",
       "      <td>24</td>\n",
       "      <td>Black</td>\n",
       "      <td>Male</td>\n",
       "      <td>26.0</td>\n",
       "      <td>Discourtesy</td>\n",
       "      <td>Action</td>\n",
       "      <td>67.0</td>\n",
       "      <td>Moving violation</td>\n",
       "      <td>Moving violation summons issued</td>\n",
       "      <td>Substantiated (Charges)</td>\n",
       "    </tr>\n",
       "    <tr>\n",
       "      <th>2</th>\n",
       "      <td>10007</td>\n",
       "      <td>John</td>\n",
       "      <td>Sears</td>\n",
       "      <td>078 PCT</td>\n",
       "      <td>5952</td>\n",
       "      <td>24601</td>\n",
       "      <td>11</td>\n",
       "      <td>2011</td>\n",
       "      <td>8</td>\n",
       "      <td>2012</td>\n",
       "      <td>...</td>\n",
       "      <td>24</td>\n",
       "      <td>Black</td>\n",
       "      <td>Male</td>\n",
       "      <td>26.0</td>\n",
       "      <td>Offensive Language</td>\n",
       "      <td>Race</td>\n",
       "      <td>67.0</td>\n",
       "      <td>Moving violation</td>\n",
       "      <td>Moving violation summons issued</td>\n",
       "      <td>Substantiated (Charges)</td>\n",
       "    </tr>\n",
       "    <tr>\n",
       "      <th>3</th>\n",
       "      <td>10007</td>\n",
       "      <td>John</td>\n",
       "      <td>Sears</td>\n",
       "      <td>078 PCT</td>\n",
       "      <td>5952</td>\n",
       "      <td>26146</td>\n",
       "      <td>7</td>\n",
       "      <td>2012</td>\n",
       "      <td>9</td>\n",
       "      <td>2013</td>\n",
       "      <td>...</td>\n",
       "      <td>25</td>\n",
       "      <td>Black</td>\n",
       "      <td>Male</td>\n",
       "      <td>45.0</td>\n",
       "      <td>Abuse of Authority</td>\n",
       "      <td>Question</td>\n",
       "      <td>67.0</td>\n",
       "      <td>PD suspected C/V of violation/crime - street</td>\n",
       "      <td>No arrest made or summons issued</td>\n",
       "      <td>Substantiated (Charges)</td>\n",
       "    </tr>\n",
       "    <tr>\n",
       "      <th>4</th>\n",
       "      <td>10009</td>\n",
       "      <td>Noemi</td>\n",
       "      <td>Sierra</td>\n",
       "      <td>078 PCT</td>\n",
       "      <td>24058</td>\n",
       "      <td>40253</td>\n",
       "      <td>8</td>\n",
       "      <td>2018</td>\n",
       "      <td>2</td>\n",
       "      <td>2019</td>\n",
       "      <td>...</td>\n",
       "      <td>39</td>\n",
       "      <td>NaN</td>\n",
       "      <td>NaN</td>\n",
       "      <td>16.0</td>\n",
       "      <td>Force</td>\n",
       "      <td>Physical force</td>\n",
       "      <td>67.0</td>\n",
       "      <td>Report-dispute</td>\n",
       "      <td>Arrest - other violation/crime</td>\n",
       "      <td>Substantiated (Command Discipline A)</td>\n",
       "    </tr>\n",
       "  </tbody>\n",
       "</table>\n",
       "<p>5 rows × 27 columns</p>\n",
       "</div>"
      ],
      "text/plain": [
       "   unique_mos_id first_name last_name command_now  shield_no  complaint_id  \\\n",
       "0          10004   Jonathan      Ruiz     078 PCT       8409         42835   \n",
       "1          10007       John     Sears     078 PCT       5952         24601   \n",
       "2          10007       John     Sears     078 PCT       5952         24601   \n",
       "3          10007       John     Sears     078 PCT       5952         26146   \n",
       "4          10009      Noemi    Sierra     078 PCT      24058         40253   \n",
       "\n",
       "   month_received  year_received  month_closed  year_closed  ...  \\\n",
       "0               7           2019             5         2020  ...   \n",
       "1              11           2011             8         2012  ...   \n",
       "2              11           2011             8         2012  ...   \n",
       "3               7           2012             9         2013  ...   \n",
       "4               8           2018             2         2019  ...   \n",
       "\n",
       "  mos_age_incident complainant_ethnicity complainant_gender  \\\n",
       "0               32                 Black             Female   \n",
       "1               24                 Black               Male   \n",
       "2               24                 Black               Male   \n",
       "3               25                 Black               Male   \n",
       "4               39                   NaN                NaN   \n",
       "\n",
       "  complainant_age_incident           fado_type                    allegation  \\\n",
       "0                     38.0  Abuse of Authority  Failure to provide RTKA card   \n",
       "1                     26.0         Discourtesy                        Action   \n",
       "2                     26.0  Offensive Language                          Race   \n",
       "3                     45.0  Abuse of Authority                      Question   \n",
       "4                     16.0               Force                Physical force   \n",
       "\n",
       "  precinct                                contact_reason  \\\n",
       "0     78.0                       Report-domestic dispute   \n",
       "1     67.0                              Moving violation   \n",
       "2     67.0                              Moving violation   \n",
       "3     67.0  PD suspected C/V of violation/crime - street   \n",
       "4     67.0                                Report-dispute   \n",
       "\n",
       "                outcome_description                         board_disposition  \n",
       "0  No arrest made or summons issued  Substantiated (Command Lvl Instructions)  \n",
       "1   Moving violation summons issued                   Substantiated (Charges)  \n",
       "2   Moving violation summons issued                   Substantiated (Charges)  \n",
       "3  No arrest made or summons issued                   Substantiated (Charges)  \n",
       "4    Arrest - other violation/crime      Substantiated (Command Discipline A)  \n",
       "\n",
       "[5 rows x 27 columns]"
      ]
     },
     "execution_count": 4,
     "metadata": {},
     "output_type": "execute_result"
    }
   ],
   "source": [
    "nypd = pd.read_csv(os.path.join('data', 'allegations.csv'))\n",
    "nypd.head()"
   ]
  },
  {
   "cell_type": "markdown",
   "metadata": {},
   "source": [
    "#### Data cleaning\n",
    "\n",
    "For simplification, we will transform any transgender to their declared gender, Not Described will be turned into a null value, and non-conforming gender will be dropped as there is not enough data to generalize this as its own respective gender."
   ]
  },
  {
   "cell_type": "code",
   "execution_count": 5,
   "metadata": {},
   "outputs": [
    {
     "data": {
      "text/plain": [
       "Male                     24058\n",
       "Female                    5021\n",
       "NaN                       4195\n",
       "Not described               57\n",
       "Transwoman (MTF)            20\n",
       "Transman (FTM)               5\n",
       "Gender non-conforming        2\n",
       "Name: complainant_gender, dtype: int64"
      ]
     },
     "execution_count": 5,
     "metadata": {},
     "output_type": "execute_result"
    }
   ],
   "source": [
    "nypd.complainant_gender.value_counts(dropna=False)"
   ]
  },
  {
   "cell_type": "code",
   "execution_count": 6,
   "metadata": {},
   "outputs": [
    {
     "data": {
      "text/plain": [
       "Male      24063\n",
       "Female     5041\n",
       "NaN        4252\n",
       "Name: complainant_gender, dtype: int64"
      ]
     },
     "execution_count": 6,
     "metadata": {},
     "output_type": "execute_result"
    }
   ],
   "source": [
    "nypd.complainant_gender = nypd.complainant_gender.replace({\n",
    "    'Not described': np.NaN,\n",
    "    'Transwoman (MTF)': 'Female',\n",
    "    'Transman (FTM)': 'Male'\n",
    "})\n",
    "\n",
    "nypd = nypd[nypd.complainant_gender != 'Gender non-conforming']\n",
    "nypd.complainant_gender.value_counts(dropna=False)"
   ]
  },
  {
   "cell_type": "markdown",
   "metadata": {},
   "source": [
    "We also need to clean precinct and complainant_age_incident for suspected invalid values."
   ]
  },
  {
   "cell_type": "code",
   "execution_count": 7,
   "metadata": {},
   "outputs": [],
   "source": [
    "# Replace non-existent precincts\n",
    "nypd.precinct = nypd.precinct.replace(to_replace=[0., 22., 1000.], value=np.NaN)\n",
    "# We also need to fix the age column for invalid values (mainly the -4301 value)\n",
    "nypd.complainant_age_incident = nypd.complainant_age_incident.apply(lambda x: x if x > 12 else np.NaN)"
   ]
  },
  {
   "cell_type": "markdown",
   "metadata": {},
   "source": []
  },
  {
   "cell_type": "code",
   "execution_count": 8,
   "metadata": {},
   "outputs": [],
   "source": [
    "# Other possible features to use later on:\n",
    "nypd['age_difference'] = nypd.complainant_age_incident - nypd.mos_age_incident"
   ]
  },
  {
   "cell_type": "markdown",
   "metadata": {},
   "source": [
    "### Baseline Model"
   ]
  },
  {
   "cell_type": "markdown",
   "metadata": {},
   "source": [
    "Firstly, we must pick our features. We can rule out a lot that are not useful, in which I list some reasons why such data can't/shouldn't be used:\n",
    "- ```unique_mos_id``` - Not useful\n",
    "- ```first_name```\n",
    "- ```last_name```\n",
    "- ```command_now``` - Many are unable to be one-hot encoded, and many are also fairly correlated with precinct.\n",
    "- ```shield_no``` - \n",
    "- ```complaint_id``` - Not useful for generating new data.\n",
    "- ```command_at_incident``` - Hard to fit into a useful feature\n",
    "- ```rank_abbrev_incident``` - Hard to fit into a useful feature\n",
    "- ```rank_abbrev_now``` - Hard to fit into a useful feature\n",
    "- ```allegation``` - Cannot be one hot encoded easily, but may be useful for identifying physical contact with complainant.\n",
    "- ```contact_reason```\n",
    "- ```month_closed``` - month close should not be related to gender at all\n",
    "- ```year_closed``` - year close should not be related to gender at all\n",
    "\n",
    "\n",
    " \n",
    "**We will use these features, which are split into categories:**\n",
    "\n",
    "Numerical:\n",
    "- ```year_received``` - Numerical\n",
    "- ```mos_age_incident``` - Numerical\n",
    "- ```complainant_age_incident``` - Numerical\n",
    "\n",
    "Ordinal:\n",
    "- ```board_disposition```\n",
    "\n",
    "Categorical:\n",
    "- ```month_received``` - Categorical due to not having a great numerical relationship (January isn't supposed to 12x less the value as December)\n",
    "- ```rank_now``` \n",
    "- ```rank_incident```  \n",
    "- ```mos_ethnicity```  \n",
    "- ```mos_gender``` \n",
    "- ```complainant_ethnicity```  \n",
    "- ```complainant_gender``` \n",
    "- ```precinct```  (precinct isn't exactly ordered)\n",
    "- ```fado_type``` \n",
    "- ```outcome_description``` - simplified in dataframe because not possible in sklearn"
   ]
  },
  {
   "cell_type": "code",
   "execution_count": 9,
   "metadata": {},
   "outputs": [],
   "source": [
    "from sklearn.preprocessing import Binarizer, OneHotEncoder, FunctionTransformer, StandardScaler, OrdinalEncoder\n",
    "from sklearn.pipeline import Pipeline\n",
    "from sklearn.compose import ColumnTransformer\n",
    "from sklearn.model_selection import train_test_split\n",
    "from sklearn.impute import SimpleImputer\n",
    "from sklearn.tree import DecisionTreeClassifier\n",
    "from sklearn.metrics import precision_score, confusion_matrix, f1_score"
   ]
  },
  {
   "cell_type": "markdown",
   "metadata": {},
   "source": [
    "We have a lot of unique categorical data, so we should one-hot encode a good portion of the data."
   ]
  },
  {
   "cell_type": "code",
   "execution_count": 10,
   "metadata": {},
   "outputs": [],
   "source": [
    "def get_outcome(outcome):\n",
    "    if pd.isnull(outcome) or outcome.startswith('No arrest'):\n",
    "        return 'No arrest'\n",
    "    elif re.search('Arrest', outcome):\n",
    "        return 'Arrest'\n",
    "    else:\n",
    "        return 'Semi-Crime'"
   ]
  },
  {
   "cell_type": "code",
   "execution_count": 11,
   "metadata": {},
   "outputs": [],
   "source": [
    "nypd['outcome_simple'] = nypd.outcome_description.apply(get_outcome)"
   ]
  },
  {
   "cell_type": "markdown",
   "metadata": {},
   "source": [
    "#### Feature pipeline"
   ]
  },
  {
   "cell_type": "code",
   "execution_count": 12,
   "metadata": {},
   "outputs": [],
   "source": [
    "numericals = ['year_received', 'mos_age_incident', 'complainant_age_incident']\n",
    "\n",
    "# Categoricals to one hot encode excluding rank now and rank incident\n",
    "ohe_generics = ['month_received', \n",
    "                'mos_ethnicity', \n",
    "                'mos_gender', \n",
    "                'complainant_ethnicity',\n",
    "                'precinct',\n",
    "                'fado_type',\n",
    "                'outcome_simple'] \n",
    "\n",
    "# Rank categories which only have 8 options\n",
    "rank_categories = ['rank_now', 'rank_incident']\n",
    "possible_ranks = nypd.rank_incident.unique()\n",
    "\n",
    "# Ordinal encoding of disposition\n",
    "disposition_order = [\n",
    "    'Unsubstantiated',\n",
    "    'Substantiated (No Recommendations)',\n",
    "    'Substantiated (MOS Unidentified)',\n",
    "    'Substantiated (Formalized Training)',\n",
    "    'Substantiated (Instructions)',\n",
    "    'Substantiated (Command Lvl Instructions)',\n",
    "    'Substantiated (Command Discipline)',\n",
    "    'Substantiated (Command Discipline A)',\n",
    "    'Substantiated (Command Discipline B)',\n",
    "    'Substantiated (Charges)',\n",
    "    'Exonerated'\n",
    "]"
   ]
  },
  {
   "cell_type": "code",
   "execution_count": 13,
   "metadata": {},
   "outputs": [],
   "source": [
    "# Numerical values to impute\n",
    "numeric_pipeline = Pipeline([\n",
    "    ('imputation', SimpleImputer(missing_values=np.NaN, fill_value=0))\n",
    "])\n",
    "\n",
    "# Categorical one hot encoder\n",
    "categorical_pipeline = Pipeline([\n",
    "    ('imputation', SimpleImputer(missing_values=np.NaN, strategy='most_frequent')),\n",
    "    ('encoder', OneHotEncoder(handle_unknown='ignore'))\n",
    "])\n",
    "\n",
    "disposition_pipeline = Pipeline([\n",
    "    ('ordinal', OrdinalEncoder(categories=[disposition_order]))\n",
    "])\n",
    "\n",
    "# Feature pipeline for all categories\n",
    "feature_pipeline = ColumnTransformer([\n",
    "    ('standardizer', numeric_pipeline, numericals),\n",
    "    ('disposition', disposition_pipeline, ['board_disposition']),\n",
    "    ('ohe_ranks', OneHotEncoder(categories=[possible_ranks, possible_ranks]), rank_categories),\n",
    "    ('ohe_gen', categorical_pipeline, ohe_generics)\n",
    "])"
   ]
  },
  {
   "cell_type": "markdown",
   "metadata": {},
   "source": [
    "#### **Splitting by time-series: why?**\n",
    "\n",
    "One thing to note is that a single complainant can file multiple reports, and that randomly shuffling the data can possibly have the same complainant within the training and test data, leading to the chance for the model to yield a good score with overfitting.\n",
    "\n",
    "Therefore, we should not shuffle the data before splitting in order to capture new complainants specifically. We will assume that new complainants will emerge in future data (which should already be ordered by time) in order for the training data to be completely separate from the test data.\n",
    "\n",
    "The downside to this is that the train test split will not split randomly anymore, which can be fine for our initial baseline model, in which we can also kfold it later on. "
   ]
  },
  {
   "cell_type": "code",
   "execution_count": 14,
   "metadata": {},
   "outputs": [],
   "source": [
    "valid_data = nypd[~nypd.complainant_gender.isnull()]\n",
    "X = valid_data.drop(columns=['complainant_gender'])\n",
    "y = (valid_data.complainant_gender == 'Female').astype(int)"
   ]
  },
  {
   "cell_type": "code",
   "execution_count": 15,
   "metadata": {},
   "outputs": [
    {
     "data": {
      "text/plain": [
       "30"
      ]
     },
     "execution_count": 15,
     "metadata": {},
     "output_type": "execute_result"
    }
   ],
   "source": [
    "# This one complainant has 30 complaints filed!\n",
    "nypd[nypd.complaint_id == 36901].shape[0]"
   ]
  },
  {
   "cell_type": "code",
   "execution_count": 16,
   "metadata": {},
   "outputs": [
    {
     "data": {
      "text/plain": [
       "0.27427356484762583"
      ]
     },
     "execution_count": 16,
     "metadata": {},
     "output_type": "execute_result"
    }
   ],
   "source": [
    "# Split data\n",
    "x_train, x_test, y_train, y_test = train_test_split(X, y, shuffle=False)\n",
    "\n",
    "# Create pipeline\n",
    "basic_model = Pipeline([\n",
    "    ('feat_processor', feature_pipeline),\n",
    "    ('decisiontree', DecisionTreeClassifier())\n",
    "])\n",
    "\n",
    "# Fit model\n",
    "basic_model.fit(x_train, y_train);\n",
    "\n",
    "f1_score(y_test, basic_model.predict(x_test))"
   ]
  },
  {
   "cell_type": "markdown",
   "metadata": {},
   "source": [
    "**Model precision score**"
   ]
  },
  {
   "cell_type": "code",
   "execution_count": 17,
   "metadata": {},
   "outputs": [
    {
     "data": {
      "text/plain": [
       "array([[4841, 1042],\n",
       "       [1006,  387]])"
      ]
     },
     "execution_count": 17,
     "metadata": {},
     "output_type": "execute_result"
    }
   ],
   "source": [
    "confusion_matrix(y_test, basic_model.predict(x_test))"
   ]
  },
  {
   "cell_type": "markdown",
   "metadata": {},
   "source": [
    "### Final Model"
   ]
  },
  {
   "cell_type": "markdown",
   "metadata": {},
   "source": [
    "We have found a good depth for this basic model, but we must still find a good depth for the final model with newly-engineered features."
   ]
  },
  {
   "cell_type": "markdown",
   "metadata": {},
   "source": [
    "I have created two different hypotheses:\n",
    "- Precinct scaling the age may make sense due to different precincts having different age populations, which can possibly be linked to gender ratios. \n",
    "- There is a trend towards women at older ages ( about >40), so we should binarize older ages in order to account for such a change in rate."
   ]
  },
  {
   "cell_type": "code",
   "execution_count": 18,
   "metadata": {},
   "outputs": [],
   "source": [
    "from sklearn.ensemble import RandomForestClassifier"
   ]
  },
  {
   "cell_type": "markdown",
   "metadata": {},
   "source": [
    "I have also tried many other models that do not perform as well:\n",
    "- LogisticRegression - heavily biased towards male\n",
    "- LinearSVC - naively predicts male always\n",
    "- KNearestClassifier - f1 score is worse than DecisionTrees\n",
    "- RandomForestClassifier - same as KNearest"
   ]
  },
  {
   "cell_type": "code",
   "execution_count": 19,
   "metadata": {},
   "outputs": [
    {
     "data": {
      "text/plain": [
       "Text(0.5, 1.0, 'Age Difference')"
      ]
     },
     "execution_count": 19,
     "metadata": {},
     "output_type": "execute_result"
    },
    {
     "data": {
      "image/png": "[encoded data removed]",
      "text/plain": [
       "<Figure size 432x288 with 1 Axes>"
      ]
     },
     "metadata": {
      "image/png": {
       "height": 277,
       "width": 396
      },
      "needs_background": "light"
     },
     "output_type": "display_data"
    }
   ],
   "source": [
    "# Trend towards older age for women\n",
    "ax = sns.histplot(data=nypd, x='age_difference', hue='complainant_gender')\n",
    "ax.set_title('Age Difference')"
   ]
  },
  {
   "cell_type": "code",
   "execution_count": 20,
   "metadata": {},
   "outputs": [
    {
     "data": {
      "text/plain": [
       "<AxesSubplot:xlabel='complainant_age_incident', ylabel='Count'>"
      ]
     },
     "execution_count": 20,
     "metadata": {},
     "output_type": "execute_result"
    },
    {
     "data": {
      "image/png": "[encoded data removed]",
      "text/plain": [
       "<Figure size 432x288 with 1 Axes>"
      ]
     },
     "metadata": {
      "image/png": {
       "height": 262,
       "width": 395
      },
      "needs_background": "light"
     },
     "output_type": "display_data"
    }
   ],
   "source": [
    "sns.histplot(data=nypd, x='complainant_age_incident', hue='complainant_gender')"
   ]
  },
  {
   "cell_type": "code",
   "execution_count": 21,
   "metadata": {},
   "outputs": [
    {
     "data": {
      "text/html": [
       "<div>\n",
       "<style scoped>\n",
       "    .dataframe tbody tr th:only-of-type {\n",
       "        vertical-align: middle;\n",
       "    }\n",
       "\n",
       "    .dataframe tbody tr th {\n",
       "        vertical-align: top;\n",
       "    }\n",
       "\n",
       "    .dataframe thead th {\n",
       "        text-align: right;\n",
       "    }\n",
       "</style>\n",
       "<table border=\"1\" class=\"dataframe\">\n",
       "  <thead>\n",
       "    <tr style=\"text-align: right;\">\n",
       "      <th></th>\n",
       "      <th>count</th>\n",
       "      <th>mean</th>\n",
       "      <th>std</th>\n",
       "      <th>min</th>\n",
       "      <th>25%</th>\n",
       "      <th>50%</th>\n",
       "      <th>75%</th>\n",
       "      <th>max</th>\n",
       "    </tr>\n",
       "    <tr>\n",
       "      <th>precinct</th>\n",
       "      <th></th>\n",
       "      <th></th>\n",
       "      <th></th>\n",
       "      <th></th>\n",
       "      <th></th>\n",
       "      <th></th>\n",
       "      <th></th>\n",
       "      <th></th>\n",
       "    </tr>\n",
       "  </thead>\n",
       "  <tbody>\n",
       "    <tr>\n",
       "      <th>1.0</th>\n",
       "      <td>163.0</td>\n",
       "      <td>36.128834</td>\n",
       "      <td>12.923396</td>\n",
       "      <td>16.0</td>\n",
       "      <td>25.00</td>\n",
       "      <td>35.0</td>\n",
       "      <td>45.00</td>\n",
       "      <td>87.0</td>\n",
       "    </tr>\n",
       "    <tr>\n",
       "      <th>5.0</th>\n",
       "      <td>152.0</td>\n",
       "      <td>31.197368</td>\n",
       "      <td>10.835336</td>\n",
       "      <td>14.0</td>\n",
       "      <td>25.00</td>\n",
       "      <td>28.0</td>\n",
       "      <td>39.00</td>\n",
       "      <td>63.0</td>\n",
       "    </tr>\n",
       "    <tr>\n",
       "      <th>6.0</th>\n",
       "      <td>160.0</td>\n",
       "      <td>39.706250</td>\n",
       "      <td>13.658272</td>\n",
       "      <td>16.0</td>\n",
       "      <td>30.00</td>\n",
       "      <td>38.0</td>\n",
       "      <td>48.00</td>\n",
       "      <td>101.0</td>\n",
       "    </tr>\n",
       "    <tr>\n",
       "      <th>7.0</th>\n",
       "      <td>179.0</td>\n",
       "      <td>31.340782</td>\n",
       "      <td>10.599505</td>\n",
       "      <td>13.0</td>\n",
       "      <td>24.00</td>\n",
       "      <td>29.0</td>\n",
       "      <td>36.00</td>\n",
       "      <td>62.0</td>\n",
       "    </tr>\n",
       "    <tr>\n",
       "      <th>9.0</th>\n",
       "      <td>229.0</td>\n",
       "      <td>35.231441</td>\n",
       "      <td>11.489647</td>\n",
       "      <td>14.0</td>\n",
       "      <td>27.00</td>\n",
       "      <td>33.0</td>\n",
       "      <td>44.00</td>\n",
       "      <td>63.0</td>\n",
       "    </tr>\n",
       "    <tr>\n",
       "      <th>...</th>\n",
       "      <td>...</td>\n",
       "      <td>...</td>\n",
       "      <td>...</td>\n",
       "      <td>...</td>\n",
       "      <td>...</td>\n",
       "      <td>...</td>\n",
       "      <td>...</td>\n",
       "      <td>...</td>\n",
       "    </tr>\n",
       "    <tr>\n",
       "      <th>115.0</th>\n",
       "      <td>212.0</td>\n",
       "      <td>32.094340</td>\n",
       "      <td>13.072911</td>\n",
       "      <td>14.0</td>\n",
       "      <td>22.00</td>\n",
       "      <td>28.0</td>\n",
       "      <td>38.25</td>\n",
       "      <td>75.0</td>\n",
       "    </tr>\n",
       "    <tr>\n",
       "      <th>120.0</th>\n",
       "      <td>750.0</td>\n",
       "      <td>32.241333</td>\n",
       "      <td>11.749915</td>\n",
       "      <td>13.0</td>\n",
       "      <td>22.00</td>\n",
       "      <td>30.0</td>\n",
       "      <td>40.00</td>\n",
       "      <td>72.0</td>\n",
       "    </tr>\n",
       "    <tr>\n",
       "      <th>121.0</th>\n",
       "      <td>341.0</td>\n",
       "      <td>34.208211</td>\n",
       "      <td>12.630986</td>\n",
       "      <td>15.0</td>\n",
       "      <td>25.00</td>\n",
       "      <td>31.0</td>\n",
       "      <td>44.00</td>\n",
       "      <td>73.0</td>\n",
       "    </tr>\n",
       "    <tr>\n",
       "      <th>122.0</th>\n",
       "      <td>209.0</td>\n",
       "      <td>32.703349</td>\n",
       "      <td>12.297515</td>\n",
       "      <td>14.0</td>\n",
       "      <td>23.00</td>\n",
       "      <td>32.0</td>\n",
       "      <td>42.00</td>\n",
       "      <td>76.0</td>\n",
       "    </tr>\n",
       "    <tr>\n",
       "      <th>123.0</th>\n",
       "      <td>100.0</td>\n",
       "      <td>39.400000</td>\n",
       "      <td>16.593780</td>\n",
       "      <td>16.0</td>\n",
       "      <td>25.75</td>\n",
       "      <td>35.0</td>\n",
       "      <td>52.00</td>\n",
       "      <td>76.0</td>\n",
       "    </tr>\n",
       "  </tbody>\n",
       "</table>\n",
       "<p>76 rows × 8 columns</p>\n",
       "</div>"
      ],
      "text/plain": [
       "          count       mean        std   min    25%   50%    75%    max\n",
       "precinct                                                              \n",
       "1.0       163.0  36.128834  12.923396  16.0  25.00  35.0  45.00   87.0\n",
       "5.0       152.0  31.197368  10.835336  14.0  25.00  28.0  39.00   63.0\n",
       "6.0       160.0  39.706250  13.658272  16.0  30.00  38.0  48.00  101.0\n",
       "7.0       179.0  31.340782  10.599505  13.0  24.00  29.0  36.00   62.0\n",
       "9.0       229.0  35.231441  11.489647  14.0  27.00  33.0  44.00   63.0\n",
       "...         ...        ...        ...   ...    ...   ...    ...    ...\n",
       "115.0     212.0  32.094340  13.072911  14.0  22.00  28.0  38.25   75.0\n",
       "120.0     750.0  32.241333  11.749915  13.0  22.00  30.0  40.00   72.0\n",
       "121.0     341.0  34.208211  12.630986  15.0  25.00  31.0  44.00   73.0\n",
       "122.0     209.0  32.703349  12.297515  14.0  23.00  32.0  42.00   76.0\n",
       "123.0     100.0  39.400000  16.593780  16.0  25.75  35.0  52.00   76.0\n",
       "\n",
       "[76 rows x 8 columns]"
      ]
     },
     "execution_count": 21,
     "metadata": {},
     "output_type": "execute_result"
    }
   ],
   "source": [
    "nypd.groupby('precinct').complainant_age_incident.describe()"
   ]
  },
  {
   "cell_type": "code",
   "execution_count": 22,
   "metadata": {},
   "outputs": [],
   "source": [
    "# New Features\n",
    "precinct_pipeline = Pipeline([\n",
    "    ('imputator', SimpleImputer(fill_value=0)),\n",
    "    ('stdscalegroup', StdScalerByGroup())\n",
    "])\n",
    "\n",
    "binarize_age_pipeline = Pipeline([\n",
    "    ('imputation', SimpleImputer(fill_value=0)),\n",
    "    ('binarize', Binarizer(threshold=50))\n",
    "])\n",
    "\n",
    "binarize_age_diff = Pipeline([\n",
    "    ('imputation', SimpleImputer(fill_value=0)),\n",
    "    ('binarize', Binarizer(threshold=10))\n",
    "])\n",
    "\n",
    "\n",
    "\n",
    "\n",
    "\n",
    "# Numerical values to impute\n",
    "numeric_pipeline = Pipeline([\n",
    "    ('imputation', SimpleImputer(missing_values=np.NaN, fill_value=0))\n",
    "])\n",
    "\n",
    "# Categorical one hot encoder\n",
    "categorical_pipeline = Pipeline([\n",
    "    ('imputation', SimpleImputer(missing_values=np.NaN, strategy='most_frequent')),\n",
    "    ('encoder', OneHotEncoder(handle_unknown='ignore'))\n",
    "])\n",
    "\n",
    "disposition_pipeline = Pipeline([\n",
    "    ('ordinal', OrdinalEncoder(categories=[disposition_order]))\n",
    "])\n",
    "\n",
    "\n",
    "# Feature pipeline for all categories\n",
    "new_feature_pipeline = ColumnTransformer([\n",
    "    ('standardizer', numeric_pipeline, numericals),\n",
    "    ('disposition', disposition_pipeline, ['board_disposition']),\n",
    "    ('ohe_ranks', OneHotEncoder(categories=[possible_ranks, possible_ranks]), rank_categories),\n",
    "    ('ohe_gen', categorical_pipeline, ohe_generics),\n",
    "    # New features!\n",
    "    ('prec_std', precinct_pipeline, ['precinct', 'complainant_age_incident']),\n",
    "    ('age_bin', binarize_age_pipeline, ['complainant_age_incident']),\n",
    "    ('age_diff', binarize_age_diff, ['age_difference'])\n",
    "])"
   ]
  },
  {
   "cell_type": "markdown",
   "metadata": {},
   "source": [
    "We also need to find which parameters are the best for the DecisionTree. I have determined that higher min_sample_splits will only result in lower test scores, so I did not consider it. For the most part, the best performing depth is around the 50s."
   ]
  },
  {
   "cell_type": "code",
   "execution_count": 23,
   "metadata": {},
   "outputs": [
    {
     "data": {
      "text/plain": [
       "53"
      ]
     },
     "execution_count": 23,
     "metadata": {},
     "output_type": "execute_result"
    }
   ],
   "source": [
    "results = {}\n",
    "\n",
    "for max_depth in range(50, 55):       \n",
    "        # Create pipeline\n",
    "        final_classifier = Pipeline([\n",
    "            ('feat_processor', new_feature_pipeline),\n",
    "            ('decisiontree', DecisionTreeClassifier(max_depth=max_depth))\n",
    "        ])\n",
    "        scores = []\n",
    "        for i in range(5):\n",
    "            # Average out f1 score\n",
    "            final_classifier.fit(x_train, y_train);\n",
    "            scores.append(f1_score(y_test, final_classifier.predict(x_test)))\n",
    "            \n",
    "        # Add to results\n",
    "        results[max_depth] = np.mean(scores)\n",
    "            \n",
    "max(results, key=lambda x: results[x])"
   ]
  },
  {
   "cell_type": "code",
   "execution_count": 24,
   "metadata": {},
   "outputs": [
    {
     "data": {
      "text/plain": [
       "0.26758520667150104"
      ]
     },
     "execution_count": 24,
     "metadata": {},
     "output_type": "execute_result"
    }
   ],
   "source": [
    "final_classifier = Pipeline([\n",
    "            ('feat_processor', new_feature_pipeline),\n",
    "            ('decisiontree', DecisionTreeClassifier(max_depth=53))\n",
    "        ])\n",
    "final_classifier.fit(x_train, y_train);\n",
    "f1_score(y_test, final_classifier.predict(x_test))"
   ]
  },
  {
   "cell_type": "code",
   "execution_count": 25,
   "metadata": {},
   "outputs": [
    {
     "data": {
      "text/plain": [
       "array([[4887,  996],\n",
       "       [1024,  369]])"
      ]
     },
     "execution_count": 25,
     "metadata": {},
     "output_type": "execute_result"
    }
   ],
   "source": [
    "confusion_matrix(y_test, final_classifier.predict(x_test))"
   ]
  },
  {
   "cell_type": "markdown",
   "metadata": {},
   "source": [
    "These three features slightly boost the overall f1-score of the model."
   ]
  },
  {
   "cell_type": "markdown",
   "metadata": {},
   "source": [
    "### Fairness Evaluation"
   ]
  },
  {
   "cell_type": "markdown",
   "metadata": {},
   "source": [
    "One of the features that we used is the outcome discription, which labeled whether there were any possible arrests, which includes summons due to involuntary movement/action. We wish to determine whether if the complainant was arrested whether gender is biased, which should not happen due to ethics.\n",
    "\n",
    "- Null hypothesis: The precision between arrested and not arrested figures are the same, and the model is fair.\n",
    "- Alternative hypothesis: The precision between the arrested and not arrested figures are not the same, and the model is unfair.\n",
    "- I will also use a p-value of .05."
   ]
  },
  {
   "cell_type": "code",
   "execution_count": 26,
   "metadata": {},
   "outputs": [],
   "source": [
    "from sklearn.metrics import accuracy_score"
   ]
  },
  {
   "cell_type": "code",
   "execution_count": 27,
   "metadata": {},
   "outputs": [
    {
     "data": {
      "text/html": [
       "<div>\n",
       "<style scoped>\n",
       "    .dataframe tbody tr th:only-of-type {\n",
       "        vertical-align: middle;\n",
       "    }\n",
       "\n",
       "    .dataframe tbody tr th {\n",
       "        vertical-align: top;\n",
       "    }\n",
       "\n",
       "    .dataframe thead th {\n",
       "        text-align: right;\n",
       "    }\n",
       "</style>\n",
       "<table border=\"1\" class=\"dataframe\">\n",
       "  <thead>\n",
       "    <tr style=\"text-align: right;\">\n",
       "      <th></th>\n",
       "      <th>arrested</th>\n",
       "      <th>prediction</th>\n",
       "      <th>actual</th>\n",
       "    </tr>\n",
       "  </thead>\n",
       "  <tbody>\n",
       "    <tr>\n",
       "      <th>25168</th>\n",
       "      <td>Arrested</td>\n",
       "      <td>0</td>\n",
       "      <td>0</td>\n",
       "    </tr>\n",
       "    <tr>\n",
       "      <th>25169</th>\n",
       "      <td>Arrested</td>\n",
       "      <td>0</td>\n",
       "      <td>0</td>\n",
       "    </tr>\n",
       "    <tr>\n",
       "      <th>25170</th>\n",
       "      <td>Arrested</td>\n",
       "      <td>0</td>\n",
       "      <td>0</td>\n",
       "    </tr>\n",
       "    <tr>\n",
       "      <th>25171</th>\n",
       "      <td>Arrested</td>\n",
       "      <td>0</td>\n",
       "      <td>0</td>\n",
       "    </tr>\n",
       "    <tr>\n",
       "      <th>25172</th>\n",
       "      <td>Arrested</td>\n",
       "      <td>0</td>\n",
       "      <td>0</td>\n",
       "    </tr>\n",
       "    <tr>\n",
       "      <th>...</th>\n",
       "      <td>...</td>\n",
       "      <td>...</td>\n",
       "      <td>...</td>\n",
       "    </tr>\n",
       "    <tr>\n",
       "      <th>33353</th>\n",
       "      <td>Arrested</td>\n",
       "      <td>0</td>\n",
       "      <td>0</td>\n",
       "    </tr>\n",
       "    <tr>\n",
       "      <th>33354</th>\n",
       "      <td>Arrested</td>\n",
       "      <td>0</td>\n",
       "      <td>0</td>\n",
       "    </tr>\n",
       "    <tr>\n",
       "      <th>33355</th>\n",
       "      <td>Arrested</td>\n",
       "      <td>0</td>\n",
       "      <td>0</td>\n",
       "    </tr>\n",
       "    <tr>\n",
       "      <th>33356</th>\n",
       "      <td>Arrested</td>\n",
       "      <td>0</td>\n",
       "      <td>0</td>\n",
       "    </tr>\n",
       "    <tr>\n",
       "      <th>33357</th>\n",
       "      <td>Arrested</td>\n",
       "      <td>0</td>\n",
       "      <td>0</td>\n",
       "    </tr>\n",
       "  </tbody>\n",
       "</table>\n",
       "<p>7276 rows × 3 columns</p>\n",
       "</div>"
      ],
      "text/plain": [
       "       arrested  prediction  actual\n",
       "25168  Arrested           0       0\n",
       "25169  Arrested           0       0\n",
       "25170  Arrested           0       0\n",
       "25171  Arrested           0       0\n",
       "25172  Arrested           0       0\n",
       "...         ...         ...     ...\n",
       "33353  Arrested           0       0\n",
       "33354  Arrested           0       0\n",
       "33355  Arrested           0       0\n",
       "33356  Arrested           0       0\n",
       "33357  Arrested           0       0\n",
       "\n",
       "[7276 rows x 3 columns]"
      ]
     },
     "execution_count": 27,
     "metadata": {},
     "output_type": "execute_result"
    }
   ],
   "source": [
    "outcome_fair = (x_test[['outcome_simple']] != 'No arrest').replace({True: 'Arrested', False: 'Not arrested'})\n",
    "outcome_fair['prediction'] = final_classifier.predict(x_test)\n",
    "outcome_fair['actual'] = y_test\n",
    "outcome_fair = outcome_fair.rename(columns={'outcome_simple':'arrested'})\n",
    "outcome_fair"
   ]
  },
  {
   "cell_type": "code",
   "execution_count": 28,
   "metadata": {},
   "outputs": [
    {
     "data": {
      "text/plain": [
       "0.030189372363925493"
      ]
     },
     "execution_count": 28,
     "metadata": {},
     "output_type": "execute_result"
    }
   ],
   "source": [
    "observed = (\n",
    "    outcome_fair\n",
    "    .groupby('arrested')\n",
    "    .apply(lambda x: accuracy_score(x.actual, x.prediction))\n",
    "    .diff()\n",
    "    .abs()\n",
    "    .iloc[-1]\n",
    ")\n",
    "observed"
   ]
  },
  {
   "cell_type": "code",
   "execution_count": 29,
   "metadata": {},
   "outputs": [],
   "source": [
    "differences = []\n",
    "# Permutation test of prediction\n",
    "for i in range(1000):\n",
    "    \n",
    "    mean_diff = (\n",
    "        outcome_fair\n",
    "        .assign(arrested=np.random.permutation(outcome_fair.arrested))\n",
    "        .groupby('arrested')\n",
    "        .apply(lambda x: accuracy_score(x.actual, x.prediction))\n",
    "        .diff()\n",
    "        .abs()\n",
    "        .iloc[-1]\n",
    "    )\n",
    "    differences.append(mean_diff)"
   ]
  },
  {
   "cell_type": "code",
   "execution_count": 30,
   "metadata": {},
   "outputs": [
    {
     "data": {
      "text/plain": [
       "Text(0.5, 0, 'Category Accuracy Difference')"
      ]
     },
     "execution_count": 30,
     "metadata": {},
     "output_type": "execute_result"
    },
    {
     "data": {
      "image/png": "[encoded data removed]",
      "text/plain": [
       "<Figure size 432x288 with 1 Axes>"
      ]
     },
     "metadata": {
      "image/png": {
       "height": 277,
       "width": 379
      },
      "needs_background": "light"
     },
     "output_type": "display_data"
    }
   ],
   "source": [
    "ax = plt.hist(differences)\n",
    "plt.scatter(x=observed, y=5, zorder=3, color='red', s=100)\n",
    "plt.title('Category Accuracy Permutation test')\n",
    "plt.xlabel('Category Accuracy Difference')"
   ]
  },
  {
   "cell_type": "code",
   "execution_count": 31,
   "metadata": {},
   "outputs": [
    {
     "data": {
      "text/plain": [
       "0.003"
      ]
     },
     "execution_count": 31,
     "metadata": {},
     "output_type": "execute_result"
    }
   ],
   "source": [
    "(observed < differences).mean()"
   ]
  },
  {
   "cell_type": "markdown",
   "metadata": {},
   "source": [
    "From this observed p-value, we determine that the model is unfair for whether the complainant was arrested."
   ]
  }
 ],
 "metadata": {
  "kernelspec": {
   "display_name": "Python 3 (ipykernel)",
   "language": "python",
   "name": "python3"
  },
  "language_info": {
   "codemirror_mode": {
    "name": "ipython",
    "version": 3
   },
   "file_extension": ".py",
   "mimetype": "text/x-python",
   "name": "python",
   "nbconvert_exporter": "python",
   "pygments_lexer": "ipython3",
   "version": "3.9.5"
  }
 },
 "nbformat": 4,
 "nbformat_minor": 2
}
