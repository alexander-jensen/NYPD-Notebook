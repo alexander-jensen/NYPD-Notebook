{
 "cells": [
  {
   "cell_type": "markdown",
   "metadata": {},
   "source": [
    "# NYPD Civilian Complaints Dataset"
   ]
  },
  {
   "cell_type": "markdown",
   "metadata": {},
   "source": [
    "# Summary of Findings\n",
    "\n",
    "### Introduction\n",
    "In this notebook, I will be exploring the New York Police complaints data set, obtained from the [propublica data store](https://www.propublica.org/datastore/dataset/civilian-complaints-against-new-york-city-police-officers). I would like to investigate whether a difference in gender between police officer and complaintant is to be more severe than if the officer is the same gender as the complaintant. \n",
    "\n",
    "### Cleaning and EDA\n",
    "We convert the complain start and end times to datetime, drop unnecessary/personal information, and clean entries for nulls. We also will visualize the gender distribution and distribution of severity in the dataset, and the test statistic visualized under the null hypothesis.\n",
    "\n",
    "### Assessment of Missingness\n",
    "We assess the missingness of columns with missing values\n",
    "\n",
    "### Hypothesis Test\n",
    "We perform a permutation test using mean as a test statistic and find out that there is a correlation between the gender difference and the severeness of the punishment given by the board."
   ]
  },
  {
   "cell_type": "markdown",
   "metadata": {},
   "source": [
    "# Code"
   ]
  },
  {
   "cell_type": "code",
   "execution_count": 1,
   "metadata": {
    "ExecuteTime": {
     "end_time": "2019-10-31T23:36:28.652554Z",
     "start_time": "2019-10-31T23:36:27.180520Z"
    }
   },
   "outputs": [],
   "source": [
    "import matplotlib.pyplot as plt\n",
    "import numpy as np\n",
    "import os\n",
    "import pandas as pd\n",
    "import seaborn as sns\n",
    "from scipy.stats import ks_2samp\n",
    "%matplotlib inline\n",
    "%config InlineBackend.figure_format = 'retina'  # Higher resolution figures"
   ]
  },
  {
   "cell_type": "markdown",
   "metadata": {},
   "source": [
    "### Cleaning and EDA"
   ]
  },
  {
   "cell_type": "markdown",
   "metadata": {},
   "source": [
    "## Loading and Data Overview\n",
    "Firstly, we should load in the data into pandas."
   ]
  },
  {
   "cell_type": "code",
   "execution_count": 2,
   "metadata": {},
   "outputs": [
    {
     "data": {
      "text/html": [
       "<div>\n",
       "<style scoped>\n",
       "    .dataframe tbody tr th:only-of-type {\n",
       "        vertical-align: middle;\n",
       "    }\n",
       "\n",
       "    .dataframe tbody tr th {\n",
       "        vertical-align: top;\n",
       "    }\n",
       "\n",
       "    .dataframe thead th {\n",
       "        text-align: right;\n",
       "    }\n",
       "</style>\n",
       "<table border=\"1\" class=\"dataframe\">\n",
       "  <thead>\n",
       "    <tr style=\"text-align: right;\">\n",
       "      <th></th>\n",
       "      <th>unique_mos_id</th>\n",
       "      <th>first_name</th>\n",
       "      <th>last_name</th>\n",
       "      <th>command_now</th>\n",
       "      <th>shield_no</th>\n",
       "      <th>complaint_id</th>\n",
       "      <th>month_received</th>\n",
       "      <th>year_received</th>\n",
       "      <th>month_closed</th>\n",
       "      <th>year_closed</th>\n",
       "      <th>...</th>\n",
       "      <th>mos_age_incident</th>\n",
       "      <th>complainant_ethnicity</th>\n",
       "      <th>complainant_gender</th>\n",
       "      <th>complainant_age_incident</th>\n",
       "      <th>fado_type</th>\n",
       "      <th>allegation</th>\n",
       "      <th>precinct</th>\n",
       "      <th>contact_reason</th>\n",
       "      <th>outcome_description</th>\n",
       "      <th>board_disposition</th>\n",
       "    </tr>\n",
       "  </thead>\n",
       "  <tbody>\n",
       "    <tr>\n",
       "      <th>0</th>\n",
       "      <td>10004</td>\n",
       "      <td>Jonathan</td>\n",
       "      <td>Ruiz</td>\n",
       "      <td>078 PCT</td>\n",
       "      <td>8409</td>\n",
       "      <td>42835</td>\n",
       "      <td>7</td>\n",
       "      <td>2019</td>\n",
       "      <td>5</td>\n",
       "      <td>2020</td>\n",
       "      <td>...</td>\n",
       "      <td>32</td>\n",
       "      <td>Black</td>\n",
       "      <td>Female</td>\n",
       "      <td>38.0</td>\n",
       "      <td>Abuse of Authority</td>\n",
       "      <td>Failure to provide RTKA card</td>\n",
       "      <td>78.0</td>\n",
       "      <td>Report-domestic dispute</td>\n",
       "      <td>No arrest made or summons issued</td>\n",
       "      <td>Substantiated (Command Lvl Instructions)</td>\n",
       "    </tr>\n",
       "    <tr>\n",
       "      <th>1</th>\n",
       "      <td>10007</td>\n",
       "      <td>John</td>\n",
       "      <td>Sears</td>\n",
       "      <td>078 PCT</td>\n",
       "      <td>5952</td>\n",
       "      <td>24601</td>\n",
       "      <td>11</td>\n",
       "      <td>2011</td>\n",
       "      <td>8</td>\n",
       "      <td>2012</td>\n",
       "      <td>...</td>\n",
       "      <td>24</td>\n",
       "      <td>Black</td>\n",
       "      <td>Male</td>\n",
       "      <td>26.0</td>\n",
       "      <td>Discourtesy</td>\n",
       "      <td>Action</td>\n",
       "      <td>67.0</td>\n",
       "      <td>Moving violation</td>\n",
       "      <td>Moving violation summons issued</td>\n",
       "      <td>Substantiated (Charges)</td>\n",
       "    </tr>\n",
       "    <tr>\n",
       "      <th>2</th>\n",
       "      <td>10007</td>\n",
       "      <td>John</td>\n",
       "      <td>Sears</td>\n",
       "      <td>078 PCT</td>\n",
       "      <td>5952</td>\n",
       "      <td>24601</td>\n",
       "      <td>11</td>\n",
       "      <td>2011</td>\n",
       "      <td>8</td>\n",
       "      <td>2012</td>\n",
       "      <td>...</td>\n",
       "      <td>24</td>\n",
       "      <td>Black</td>\n",
       "      <td>Male</td>\n",
       "      <td>26.0</td>\n",
       "      <td>Offensive Language</td>\n",
       "      <td>Race</td>\n",
       "      <td>67.0</td>\n",
       "      <td>Moving violation</td>\n",
       "      <td>Moving violation summons issued</td>\n",
       "      <td>Substantiated (Charges)</td>\n",
       "    </tr>\n",
       "    <tr>\n",
       "      <th>3</th>\n",
       "      <td>10007</td>\n",
       "      <td>John</td>\n",
       "      <td>Sears</td>\n",
       "      <td>078 PCT</td>\n",
       "      <td>5952</td>\n",
       "      <td>26146</td>\n",
       "      <td>7</td>\n",
       "      <td>2012</td>\n",
       "      <td>9</td>\n",
       "      <td>2013</td>\n",
       "      <td>...</td>\n",
       "      <td>25</td>\n",
       "      <td>Black</td>\n",
       "      <td>Male</td>\n",
       "      <td>45.0</td>\n",
       "      <td>Abuse of Authority</td>\n",
       "      <td>Question</td>\n",
       "      <td>67.0</td>\n",
       "      <td>PD suspected C/V of violation/crime - street</td>\n",
       "      <td>No arrest made or summons issued</td>\n",
       "      <td>Substantiated (Charges)</td>\n",
       "    </tr>\n",
       "    <tr>\n",
       "      <th>4</th>\n",
       "      <td>10009</td>\n",
       "      <td>Noemi</td>\n",
       "      <td>Sierra</td>\n",
       "      <td>078 PCT</td>\n",
       "      <td>24058</td>\n",
       "      <td>40253</td>\n",
       "      <td>8</td>\n",
       "      <td>2018</td>\n",
       "      <td>2</td>\n",
       "      <td>2019</td>\n",
       "      <td>...</td>\n",
       "      <td>39</td>\n",
       "      <td>NaN</td>\n",
       "      <td>NaN</td>\n",
       "      <td>16.0</td>\n",
       "      <td>Force</td>\n",
       "      <td>Physical force</td>\n",
       "      <td>67.0</td>\n",
       "      <td>Report-dispute</td>\n",
       "      <td>Arrest - other violation/crime</td>\n",
       "      <td>Substantiated (Command Discipline A)</td>\n",
       "    </tr>\n",
       "    <tr>\n",
       "      <th>...</th>\n",
       "      <td>...</td>\n",
       "      <td>...</td>\n",
       "      <td>...</td>\n",
       "      <td>...</td>\n",
       "      <td>...</td>\n",
       "      <td>...</td>\n",
       "      <td>...</td>\n",
       "      <td>...</td>\n",
       "      <td>...</td>\n",
       "      <td>...</td>\n",
       "      <td>...</td>\n",
       "      <td>...</td>\n",
       "      <td>...</td>\n",
       "      <td>...</td>\n",
       "      <td>...</td>\n",
       "      <td>...</td>\n",
       "      <td>...</td>\n",
       "      <td>...</td>\n",
       "      <td>...</td>\n",
       "      <td>...</td>\n",
       "      <td>...</td>\n",
       "    </tr>\n",
       "    <tr>\n",
       "      <th>33353</th>\n",
       "      <td>9992</td>\n",
       "      <td>Tomasz</td>\n",
       "      <td>Pulawski</td>\n",
       "      <td>078 PCT</td>\n",
       "      <td>2642</td>\n",
       "      <td>35671</td>\n",
       "      <td>8</td>\n",
       "      <td>2016</td>\n",
       "      <td>2</td>\n",
       "      <td>2017</td>\n",
       "      <td>...</td>\n",
       "      <td>36</td>\n",
       "      <td>Asian</td>\n",
       "      <td>Male</td>\n",
       "      <td>21.0</td>\n",
       "      <td>Discourtesy</td>\n",
       "      <td>Word</td>\n",
       "      <td>66.0</td>\n",
       "      <td>Moving violation</td>\n",
       "      <td>Moving violation summons issued</td>\n",
       "      <td>Unsubstantiated</td>\n",
       "    </tr>\n",
       "    <tr>\n",
       "      <th>33354</th>\n",
       "      <td>9992</td>\n",
       "      <td>Tomasz</td>\n",
       "      <td>Pulawski</td>\n",
       "      <td>078 PCT</td>\n",
       "      <td>2642</td>\n",
       "      <td>35671</td>\n",
       "      <td>8</td>\n",
       "      <td>2016</td>\n",
       "      <td>2</td>\n",
       "      <td>2017</td>\n",
       "      <td>...</td>\n",
       "      <td>36</td>\n",
       "      <td>Asian</td>\n",
       "      <td>Male</td>\n",
       "      <td>21.0</td>\n",
       "      <td>Abuse of Authority</td>\n",
       "      <td>Interference with recording</td>\n",
       "      <td>66.0</td>\n",
       "      <td>Moving violation</td>\n",
       "      <td>Moving violation summons issued</td>\n",
       "      <td>Unsubstantiated</td>\n",
       "    </tr>\n",
       "    <tr>\n",
       "      <th>33355</th>\n",
       "      <td>9992</td>\n",
       "      <td>Tomasz</td>\n",
       "      <td>Pulawski</td>\n",
       "      <td>078 PCT</td>\n",
       "      <td>2642</td>\n",
       "      <td>35671</td>\n",
       "      <td>8</td>\n",
       "      <td>2016</td>\n",
       "      <td>2</td>\n",
       "      <td>2017</td>\n",
       "      <td>...</td>\n",
       "      <td>36</td>\n",
       "      <td>Asian</td>\n",
       "      <td>Male</td>\n",
       "      <td>21.0</td>\n",
       "      <td>Abuse of Authority</td>\n",
       "      <td>Search (of person)</td>\n",
       "      <td>66.0</td>\n",
       "      <td>Moving violation</td>\n",
       "      <td>Moving violation summons issued</td>\n",
       "      <td>Substantiated (Formalized Training)</td>\n",
       "    </tr>\n",
       "    <tr>\n",
       "      <th>33356</th>\n",
       "      <td>9992</td>\n",
       "      <td>Tomasz</td>\n",
       "      <td>Pulawski</td>\n",
       "      <td>078 PCT</td>\n",
       "      <td>2642</td>\n",
       "      <td>35671</td>\n",
       "      <td>8</td>\n",
       "      <td>2016</td>\n",
       "      <td>2</td>\n",
       "      <td>2017</td>\n",
       "      <td>...</td>\n",
       "      <td>36</td>\n",
       "      <td>Asian</td>\n",
       "      <td>Male</td>\n",
       "      <td>21.0</td>\n",
       "      <td>Abuse of Authority</td>\n",
       "      <td>Vehicle search</td>\n",
       "      <td>66.0</td>\n",
       "      <td>Moving violation</td>\n",
       "      <td>Moving violation summons issued</td>\n",
       "      <td>Substantiated (Formalized Training)</td>\n",
       "    </tr>\n",
       "    <tr>\n",
       "      <th>33357</th>\n",
       "      <td>9992</td>\n",
       "      <td>Tomasz</td>\n",
       "      <td>Pulawski</td>\n",
       "      <td>078 PCT</td>\n",
       "      <td>2642</td>\n",
       "      <td>35671</td>\n",
       "      <td>8</td>\n",
       "      <td>2016</td>\n",
       "      <td>2</td>\n",
       "      <td>2017</td>\n",
       "      <td>...</td>\n",
       "      <td>36</td>\n",
       "      <td>Asian</td>\n",
       "      <td>Male</td>\n",
       "      <td>21.0</td>\n",
       "      <td>Abuse of Authority</td>\n",
       "      <td>Frisk</td>\n",
       "      <td>66.0</td>\n",
       "      <td>Moving violation</td>\n",
       "      <td>Moving violation summons issued</td>\n",
       "      <td>Substantiated (Formalized Training)</td>\n",
       "    </tr>\n",
       "  </tbody>\n",
       "</table>\n",
       "<p>33358 rows × 27 columns</p>\n",
       "</div>"
      ],
      "text/plain": [
       "       unique_mos_id first_name last_name command_now  shield_no  \\\n",
       "0              10004   Jonathan      Ruiz     078 PCT       8409   \n",
       "1              10007       John     Sears     078 PCT       5952   \n",
       "2              10007       John     Sears     078 PCT       5952   \n",
       "3              10007       John     Sears     078 PCT       5952   \n",
       "4              10009      Noemi    Sierra     078 PCT      24058   \n",
       "...              ...        ...       ...         ...        ...   \n",
       "33353           9992     Tomasz  Pulawski     078 PCT       2642   \n",
       "33354           9992     Tomasz  Pulawski     078 PCT       2642   \n",
       "33355           9992     Tomasz  Pulawski     078 PCT       2642   \n",
       "33356           9992     Tomasz  Pulawski     078 PCT       2642   \n",
       "33357           9992     Tomasz  Pulawski     078 PCT       2642   \n",
       "\n",
       "       complaint_id  month_received  year_received  month_closed  year_closed  \\\n",
       "0             42835               7           2019             5         2020   \n",
       "1             24601              11           2011             8         2012   \n",
       "2             24601              11           2011             8         2012   \n",
       "3             26146               7           2012             9         2013   \n",
       "4             40253               8           2018             2         2019   \n",
       "...             ...             ...            ...           ...          ...   \n",
       "33353         35671               8           2016             2         2017   \n",
       "33354         35671               8           2016             2         2017   \n",
       "33355         35671               8           2016             2         2017   \n",
       "33356         35671               8           2016             2         2017   \n",
       "33357         35671               8           2016             2         2017   \n",
       "\n",
       "       ... mos_age_incident complainant_ethnicity complainant_gender  \\\n",
       "0      ...               32                 Black             Female   \n",
       "1      ...               24                 Black               Male   \n",
       "2      ...               24                 Black               Male   \n",
       "3      ...               25                 Black               Male   \n",
       "4      ...               39                   NaN                NaN   \n",
       "...    ...              ...                   ...                ...   \n",
       "33353  ...               36                 Asian               Male   \n",
       "33354  ...               36                 Asian               Male   \n",
       "33355  ...               36                 Asian               Male   \n",
       "33356  ...               36                 Asian               Male   \n",
       "33357  ...               36                 Asian               Male   \n",
       "\n",
       "      complainant_age_incident           fado_type  \\\n",
       "0                         38.0  Abuse of Authority   \n",
       "1                         26.0         Discourtesy   \n",
       "2                         26.0  Offensive Language   \n",
       "3                         45.0  Abuse of Authority   \n",
       "4                         16.0               Force   \n",
       "...                        ...                 ...   \n",
       "33353                     21.0         Discourtesy   \n",
       "33354                     21.0  Abuse of Authority   \n",
       "33355                     21.0  Abuse of Authority   \n",
       "33356                     21.0  Abuse of Authority   \n",
       "33357                     21.0  Abuse of Authority   \n",
       "\n",
       "                         allegation precinct  \\\n",
       "0      Failure to provide RTKA card     78.0   \n",
       "1                            Action     67.0   \n",
       "2                              Race     67.0   \n",
       "3                          Question     67.0   \n",
       "4                    Physical force     67.0   \n",
       "...                             ...      ...   \n",
       "33353                          Word     66.0   \n",
       "33354   Interference with recording     66.0   \n",
       "33355            Search (of person)     66.0   \n",
       "33356                Vehicle search     66.0   \n",
       "33357                         Frisk     66.0   \n",
       "\n",
       "                                     contact_reason  \\\n",
       "0                           Report-domestic dispute   \n",
       "1                                  Moving violation   \n",
       "2                                  Moving violation   \n",
       "3      PD suspected C/V of violation/crime - street   \n",
       "4                                    Report-dispute   \n",
       "...                                             ...   \n",
       "33353                              Moving violation   \n",
       "33354                              Moving violation   \n",
       "33355                              Moving violation   \n",
       "33356                              Moving violation   \n",
       "33357                              Moving violation   \n",
       "\n",
       "                    outcome_description  \\\n",
       "0      No arrest made or summons issued   \n",
       "1       Moving violation summons issued   \n",
       "2       Moving violation summons issued   \n",
       "3      No arrest made or summons issued   \n",
       "4        Arrest - other violation/crime   \n",
       "...                                 ...   \n",
       "33353   Moving violation summons issued   \n",
       "33354   Moving violation summons issued   \n",
       "33355   Moving violation summons issued   \n",
       "33356   Moving violation summons issued   \n",
       "33357   Moving violation summons issued   \n",
       "\n",
       "                              board_disposition  \n",
       "0      Substantiated (Command Lvl Instructions)  \n",
       "1                       Substantiated (Charges)  \n",
       "2                       Substantiated (Charges)  \n",
       "3                       Substantiated (Charges)  \n",
       "4          Substantiated (Command Discipline A)  \n",
       "...                                         ...  \n",
       "33353                           Unsubstantiated  \n",
       "33354                           Unsubstantiated  \n",
       "33355       Substantiated (Formalized Training)  \n",
       "33356       Substantiated (Formalized Training)  \n",
       "33357       Substantiated (Formalized Training)  \n",
       "\n",
       "[33358 rows x 27 columns]"
      ]
     },
     "execution_count": 2,
     "metadata": {},
     "output_type": "execute_result"
    }
   ],
   "source": [
    "complaints = pd.read_csv(os.path.join('data', 'allegations.csv'))\n",
    "complaints"
   ]
  },
  {
   "cell_type": "code",
   "execution_count": 3,
   "metadata": {},
   "outputs": [
    {
     "data": {
      "text/plain": [
       "0        32\n",
       "1        24\n",
       "2        24\n",
       "3        25\n",
       "4        39\n",
       "         ..\n",
       "33353    36\n",
       "33354    36\n",
       "33355    36\n",
       "33356    36\n",
       "33357    36\n",
       "Name: mos_age_incident, Length: 33358, dtype: int64"
      ]
     },
     "execution_count": 3,
     "metadata": {},
     "output_type": "execute_result"
    }
   ],
   "source": [
    "complaints['mos_age_incident']"
   ]
  },
  {
   "cell_type": "code",
   "execution_count": 4,
   "metadata": {},
   "outputs": [
    {
     "data": {
      "text/plain": [
       "<AxesSubplot:ylabel='Frequency'>"
      ]
     },
     "execution_count": 4,
     "metadata": {},
     "output_type": "execute_result"
    },
    {
     "data": {
      "image/png": "[encoded data removed]",
      "text/plain": [
       "<Figure size 432x288 with 1 Axes>"
      ]
     },
     "metadata": {
      "image/png": {
       "height": 250,
       "width": 395
      },
      "needs_background": "light"
     },
     "output_type": "display_data"
    }
   ],
   "source": [
    "complaints.groupby('complaint_id')['mos_age_incident'].mean().plot(kind='hist')"
   ]
  },
  {
   "cell_type": "markdown",
   "metadata": {},
   "source": [
    "### common acronyms\n",
    "- PCT - Precinct\n",
    "- PBBS - Patrol Borough Brooklyn South - Refers to a patrol unit in the South."
   ]
  },
  {
   "cell_type": "markdown",
   "metadata": {},
   "source": [
    "https://en.wikipedia.org/wiki/Civilian_Complaint_Review_Board"
   ]
  },
  {
   "cell_type": "code",
   "execution_count": 5,
   "metadata": {},
   "outputs": [
    {
     "data": {
      "text/plain": [
       "0        078 PCT\n",
       "1           PBBS\n",
       "2           PBBS\n",
       "3           PBBS\n",
       "4        078 PCT\n",
       "          ...   \n",
       "33353    066 PCT\n",
       "33354    066 PCT\n",
       "33355    066 PCT\n",
       "33356    066 PCT\n",
       "33357    066 PCT\n",
       "Name: command_at_incident, Length: 33358, dtype: object"
      ]
     },
     "execution_count": 5,
     "metadata": {},
     "output_type": "execute_result"
    }
   ],
   "source": [
    "complaints['command_at_incident']"
   ]
  },
  {
   "cell_type": "markdown",
   "metadata": {},
   "source": [
    "Not all of these columns are clear as to what they mean, but we can infer from the other columns in the row about what they may mean."
   ]
  },
  {
   "cell_type": "markdown",
   "metadata": {},
   "source": [
    "### Data Columns\n",
    "\n",
    "Most of these column names are self-explanatory, but some are not and required research to understand.\n",
    "Note that mos is a common abbreviation for Member of Service.\n",
    "This is a list of some columns that may need clarification:\n",
    " - ```unique_mos_id``` - Unique member of service (**MoS**) id given to an officer by the CCRB, and not by the New York Police.\n",
    " - ```command_now``` - current commanding position of the officer.\n",
    " - ```shield_no``` - Badge/shield number of officer may possibly \n",
    " - ```complaint_id``` - Unique id of given complaint. Complaints can have multiple different allegations as well.\n",
    " - ```command_at_incident``` - Commanding position of the officer at incident.\n",
    " - ```rank_abbrev_incident``` - rank of officer at the time the incident had occurred. \n",
    " - ```fado_type``` - Categorization of police abuse as one of the following: [Force, Abuse of Authority, Discourtesy, and Offensive Language](https://www1.nyc.gov/site/ccrb/policy/data-transparency-initiative-allegations.page)\n",
    " - ```allegation``` - Alleged action of the officer that led to the filing of the complaint.\n",
    " - ```precinct``` - Precinct in which the complaint occurred\n",
    " - ```contact_reason``` - reason for why contact was made.\n",
    " - ```outcome_description``` - Outcome of given contact.\n",
    " - ```board_disposition``` - action taken by the board.\n",
    "\n",
    "Many columns can be explained by the [various links given by the NYPD](https://www.nyclu.org/en/campaigns/nypd-misconduct-database)."
   ]
  },
  {
   "cell_type": "markdown",
   "metadata": {
    "ExecuteTime": {
     "end_time": "2019-10-31T23:36:28.657068Z",
     "start_time": "2019-10-31T23:36:28.654650Z"
    }
   },
   "source": [
    "## Data Cleaning\n",
    "\n",
    "We should check to ensure that all data is in a reasonable data type."
   ]
  },
  {
   "cell_type": "code",
   "execution_count": 6,
   "metadata": {},
   "outputs": [
    {
     "data": {
      "text/plain": [
       "unique_mos_id                 int64\n",
       "first_name                   object\n",
       "last_name                    object\n",
       "command_now                  object\n",
       "shield_no                     int64\n",
       "complaint_id                  int64\n",
       "month_received                int64\n",
       "year_received                 int64\n",
       "month_closed                  int64\n",
       "year_closed                   int64\n",
       "command_at_incident          object\n",
       "rank_abbrev_incident         object\n",
       "rank_abbrev_now              object\n",
       "rank_now                     object\n",
       "rank_incident                object\n",
       "mos_ethnicity                object\n",
       "mos_gender                   object\n",
       "mos_age_incident              int64\n",
       "complainant_ethnicity        object\n",
       "complainant_gender           object\n",
       "complainant_age_incident    float64\n",
       "fado_type                    object\n",
       "allegation                   object\n",
       "precinct                    float64\n",
       "contact_reason               object\n",
       "outcome_description          object\n",
       "board_disposition            object\n",
       "dtype: object"
      ]
     },
     "execution_count": 6,
     "metadata": {},
     "output_type": "execute_result"
    }
   ],
   "source": [
    "complaints.dtypes"
   ]
  },
  {
   "cell_type": "markdown",
   "metadata": {},
   "source": [
    "Most of the datatypes are of an appropriate type, as most can only be represented as a string, integer (if all non-null) and float (if has null values)."
   ]
  },
  {
   "cell_type": "markdown",
   "metadata": {},
   "source": [
    "For the most part, the data is okay in terms of data type, except for precinct, which is more nominal than ordinal. We would also like to represent the month and year of the complain in terms of date time in order to analyze complaints over time. We are not given the exact date of the complaint, so we assign the complaint to be filed on the first day of a given month. There is also no missingness in any of these columns as well."
   ]
  },
  {
   "cell_type": "code",
   "execution_count": 7,
   "metadata": {},
   "outputs": [],
   "source": [
    "complaints['precinct'] = complaints['precinct'].astype(str)"
   ]
  },
  {
   "cell_type": "code",
   "execution_count": 8,
   "metadata": {},
   "outputs": [],
   "source": [
    "date_conversion = lambda year, month: pd.to_datetime(year.astype(str) + '-' + month.astype(str).str.zfill(2))"
   ]
  },
  {
   "cell_type": "code",
   "execution_count": 9,
   "metadata": {},
   "outputs": [],
   "source": [
    "complaints['received'] = date_conversion(complaints['year_received'], complaints['month_received'])\n",
    "complaints['closed'] = date_conversion(complaints['year_closed'], complaints['month_closed'])\n",
    "complaints = complaints.drop(columns=['month_received', 'year_received', 'month_closed', 'year_closed'])"
   ]
  },
  {
   "cell_type": "markdown",
   "metadata": {},
   "source": [
    "We should also anonymize the data by dropping the officer name, as it does not contribute towards understanding the data better, and we have other more useful features about the officer, including ethnicity, gender, and age."
   ]
  },
  {
   "cell_type": "code",
   "execution_count": 10,
   "metadata": {},
   "outputs": [],
   "source": [
    "complaints = complaints.drop(columns=['first_name', 'last_name'])"
   ]
  },
  {
   "cell_type": "markdown",
   "metadata": {},
   "source": [
    "## Null values"
   ]
  },
  {
   "cell_type": "code",
   "execution_count": 11,
   "metadata": {
    "scrolled": true
   },
   "outputs": [
    {
     "name": "stdout",
     "output_type": "stream",
     "text": [
      "2     10\n",
      "5      3\n",
      "11     5\n",
      "21     8\n",
      "23    14\n",
      "Name: unique_mos_id, dtype: int64\n",
      "0     5392\n",
      "2        1\n",
      "5       20\n",
      "10      14\n",
      "12       2\n",
      "Name: shield_no, dtype: int64\n",
      "517    3\n",
      "525    2\n",
      "528    1\n",
      "542    1\n",
      "558    2\n",
      "Name: complaint_id, dtype: int64\n",
      "20       1\n",
      "21      24\n",
      "22     292\n",
      "23     622\n",
      "24    1266\n",
      "Name: mos_age_incident, dtype: int64\n",
      "-4301.0    1\n",
      "-1.0       5\n",
      " 0.0       2\n",
      " 1.0       1\n",
      " 2.0       2\n",
      "Name: complainant_age_incident, dtype: int64\n"
     ]
    }
   ],
   "source": [
    "num_cols = complaints.columns[(complaints.dtypes == np.int64) | (complaints.dtypes == np.float64)]\n",
    "for col in num_cols:\n",
    "    print(complaints[col].value_counts(dropna=False).sort_index().head(5))"
   ]
  },
  {
   "cell_type": "code",
   "execution_count": 12,
   "metadata": {},
   "outputs": [
    {
     "data": {
      "text/plain": [
       "Index(['allegation', 'board_disposition', 'closed', 'command_at_incident',\n",
       "       'command_now', 'complainant_ethnicity', 'complainant_gender',\n",
       "       'contact_reason', 'fado_type', 'mos_ethnicity', 'mos_gender',\n",
       "       'outcome_description', 'precinct', 'rank_abbrev_incident',\n",
       "       'rank_abbrev_now', 'rank_incident', 'rank_now', 'received'],\n",
       "      dtype='object')"
      ]
     },
     "execution_count": 12,
     "metadata": {},
     "output_type": "execute_result"
    }
   ],
   "source": [
    "complaints.columns.difference(num_cols)"
   ]
  },
  {
   "cell_type": "code",
   "execution_count": 13,
   "metadata": {
    "scrolled": true
   },
   "outputs": [
    {
     "name": "stdout",
     "output_type": "stream",
     "text": [
      "Physical force        4849\n",
      "Word                  3942\n",
      "Stop                  2300\n",
      "Search (of person)    2047\n",
      "Frisk                 1926\n",
      "Name: allegation, dtype: int64\n",
      "Unsubstantiated                         15448\n",
      "Exonerated                               9609\n",
      "Substantiated (Charges)                  3796\n",
      "Substantiated (Formalized Training)      1033\n",
      "Substantiated (Command Discipline A)      964\n",
      "Name: board_disposition, dtype: int64\n",
      "2015-09-01    414\n",
      "2015-03-01    388\n",
      "2017-02-01    384\n",
      "2016-02-01    354\n",
      "2014-12-01    335\n",
      "Name: closed, dtype: int64\n",
      "NaN        1544\n",
      "075 PCT    1364\n",
      "046 PCT     825\n",
      "044 PCT     763\n",
      "NARCBBN     746\n",
      "Name: command_at_incident, dtype: int64\n",
      "INT CIS    1412\n",
      "WARRSEC    1165\n",
      "NARCBBX     692\n",
      "DB CEIS     683\n",
      "075 PCT     415\n",
      "Name: command_now, dtype: int64\n",
      "Black       17114\n",
      "Hispanic     6424\n",
      "NaN          4464\n",
      "White        2783\n",
      "Unknown      1041\n",
      "Name: complainant_ethnicity, dtype: int64\n",
      "Male                24058\n",
      "Female               5021\n",
      "NaN                  4195\n",
      "Not described          57\n",
      "Transwoman (MTF)       20\n",
      "Name: complainant_gender, dtype: int64\n",
      "PD suspected C/V of violation/crime - street    10078\n",
      "Other                                            4104\n",
      "PD suspected C/V of violation/crime - auto       2981\n",
      "PD suspected C/V of violation/crime - bldg       2542\n",
      "Moving violation                                 1983\n",
      "Name: contact_reason, dtype: int64\n",
      "Abuse of Authority    20292\n",
      "Force                  7636\n",
      "Discourtesy            4677\n",
      "Offensive Language      753\n",
      "Name: fado_type, dtype: int64\n",
      "White              18074\n",
      "Hispanic            9150\n",
      "Black               4924\n",
      "Asian               1178\n",
      "American Indian       32\n",
      "Name: mos_ethnicity, dtype: int64\n",
      "M    31598\n",
      "F     1760\n",
      "Name: mos_gender, dtype: int64\n",
      "No arrest made or summons issued    12822\n",
      "Arrest - other violation/crime      10196\n",
      "Summons - disorderly conduct         2118\n",
      "Summons - other violation/crime      1940\n",
      "Arrest - resisting arrest            1593\n",
      "Name: outcome_description, dtype: int64\n",
      "75.0    2172\n",
      "73.0    1163\n",
      "44.0    1139\n",
      "46.0    1120\n",
      "67.0    1119\n",
      "Name: precinct, dtype: int64\n",
      "POM    19807\n",
      "SGT     5701\n",
      "DT3     2712\n",
      "POF     1398\n",
      "PO      1304\n",
      "Name: rank_abbrev_incident, dtype: int64\n",
      "POM    9454\n",
      "DT3    6838\n",
      "SGT    6067\n",
      "LT     2815\n",
      "DTS    1296\n",
      "Name: rank_abbrev_now, dtype: int64\n",
      "Police Officer    22509\n",
      "Sergeant           5934\n",
      "Detective          3307\n",
      "Lieutenant         1301\n",
      "Captain             182\n",
      "Name: rank_incident, dtype: int64\n",
      "Police Officer    10298\n",
      "Detective          9917\n",
      "Sergeant           7751\n",
      "Lieutenant         3696\n",
      "Captain             735\n",
      "Name: rank_now, dtype: int64\n",
      "2015-08-01    282\n",
      "2015-10-01    279\n",
      "2019-02-01    279\n",
      "2017-03-01    276\n",
      "2016-08-01    270\n",
      "Name: received, dtype: int64\n"
     ]
    }
   ],
   "source": [
    "object_cols = complaints.columns.difference(num_cols)\n",
    "for col in object_cols:\n",
    "    print(complaints[col].value_counts(dropna=False).head(5))"
   ]
  },
  {
   "cell_type": "markdown",
   "metadata": {},
   "source": [
    "From some of the columns, we see some candidates for data that should be marked as missing:\n",
    "- shield_no of 0\n",
    "- Precincts with values of 0 or 1000\n",
    "- Gender - Not described\n",
    "- complaintant_age_incident contains unreasonable values (negative, under 5, etc.)\n",
    "- complaintant_ethnicity - Unknown and refused\n"
   ]
  },
  {
   "cell_type": "code",
   "execution_count": 14,
   "metadata": {},
   "outputs": [],
   "source": [
    "# Clean shield numbers for zero values\n",
    "complaints['shield_no'] = complaints['shield_no'].replace(0, np.NaN)"
   ]
  },
  {
   "cell_type": "code",
   "execution_count": 15,
   "metadata": {},
   "outputs": [
    {
     "data": {
      "text/plain": [
       "Index(['75.0', '73.0', '44.0', '46.0', '67.0', '79.0', '40.0', '77.0', '47.0',\n",
       "       '120.0', '81.0', '43.0', '52.0', '70.0', '113.0', '32.0', '48.0',\n",
       "       '42.0', '83.0', '71.0', '25.0', '23.0', '101.0', '103.0', '41.0',\n",
       "       '69.0', '60.0', '105.0', '90.0', '34.0', '114.0', '121.0', '14.0',\n",
       "       '28.0', '30.0', '49.0', '63.0', '33.0', '18.0', '110.0', '9.0', '72.0',\n",
       "       '115.0', '10.0', '102.0', '122.0', '84.0', '88.0', '68.0', '45.0',\n",
       "       '7.0', '104.0', '50.0', '61.0', '106.0', '24.0', '109.0', '62.0', '6.0',\n",
       "       '1.0', '107.0', '19.0', '5.0', '76.0', '26.0', '13.0', '108.0', '100.0',\n",
       "       '112.0', '78.0', '94.0', '123.0', '20.0', '66.0', '17.0', '111.0',\n",
       "       'nan', '0.0', '22.0', '1000.0'],\n",
       "      dtype='object')"
      ]
     },
     "execution_count": 15,
     "metadata": {},
     "output_type": "execute_result"
    }
   ],
   "source": [
    "complaints['precinct'].value_counts(dropna=False).index"
   ]
  },
  {
   "cell_type": "markdown",
   "metadata": {},
   "source": [
    "To clean up the precinct column, I used the [NYPD precincts page](https://www1.nyc.gov/site/nypd/bureaus/patrol/precincts-landing.page) to get a general idea of the range of precincts in New York. The main two precincts that do not exist are the 0th and 1000th precincts."
   ]
  },
  {
   "cell_type": "code",
   "execution_count": 16,
   "metadata": {},
   "outputs": [],
   "source": [
    "complaints['precinct'] = complaints['precinct'].replace({0.0: np.NaN, 1000.0: np.NaN})"
   ]
  },
  {
   "cell_type": "code",
   "execution_count": 17,
   "metadata": {},
   "outputs": [],
   "source": [
    "complaints['complainant_gender'] = complaints['complainant_gender'].replace({'Not described': np.NaN})\n",
    "complaints['complainant_ethnicity'] = complaints['complainant_ethnicity'].replace({'Unknown': np.NaN})"
   ]
  },
  {
   "cell_type": "code",
   "execution_count": 18,
   "metadata": {},
   "outputs": [
    {
     "data": {
      "text/plain": [
       "-4301.0      1\n",
       "-1.0         5\n",
       " 0.0         2\n",
       " 1.0         1\n",
       " 2.0         2\n",
       " 3.0         1\n",
       " 6.0         1\n",
       " 7.0         1\n",
       " 8.0         3\n",
       " 9.0         4\n",
       " 10.0       10\n",
       " 11.0       23\n",
       " 12.0       63\n",
       " 13.0      121\n",
       " 14.0      254\n",
       "Name: complainant_age_incident, dtype: int64"
      ]
     },
     "execution_count": 18,
     "metadata": {},
     "output_type": "execute_result"
    }
   ],
   "source": [
    "complaints['complainant_age_incident'].value_counts().sort_index().head(15)"
   ]
  },
  {
   "cell_type": "markdown",
   "metadata": {},
   "source": [
    "For determining invalid/missing values, we will assume that complaints made under the age of 13 are inaccurate, because it would be highly unlikely for people under these ages to have filed a police report. From these errors, they may suggest that these ages were hand-entered."
   ]
  },
  {
   "cell_type": "code",
   "execution_count": 19,
   "metadata": {},
   "outputs": [],
   "source": [
    "complaints['complainant_age_incident'] = complaints['complainant_age_incident'].apply(lambda x: x if x >= 13 else np.NaN)"
   ]
  },
  {
   "cell_type": "code",
   "execution_count": 20,
   "metadata": {},
   "outputs": [
    {
     "data": {
      "text/plain": [
       "13.0    121\n",
       "14.0    254\n",
       "15.0    402\n",
       "16.0    475\n",
       "17.0    631\n",
       "18.0    687\n",
       "19.0    888\n",
       "20.0    843\n",
       "21.0    955\n",
       "22.0    931\n",
       "Name: complainant_age_incident, dtype: int64"
      ]
     },
     "execution_count": 20,
     "metadata": {},
     "output_type": "execute_result"
    }
   ],
   "source": [
    "complaints['complainant_age_incident'].value_counts().sort_index().head(10)"
   ]
  },
  {
   "cell_type": "code",
   "execution_count": 21,
   "metadata": {},
   "outputs": [
    {
     "data": {
      "text/plain": [
       "Unsubstantiated                             15448\n",
       "Exonerated                                   9609\n",
       "Substantiated (Charges)                      3796\n",
       "Substantiated (Formalized Training)          1033\n",
       "Substantiated (Command Discipline A)          964\n",
       "Substantiated (Command Discipline)            851\n",
       "Substantiated (Command Discipline B)          789\n",
       "Substantiated (Command Lvl Instructions)      454\n",
       "Substantiated (Instructions)                  248\n",
       "Substantiated (No Recommendations)            165\n",
       "Substantiated (MOS Unidentified)                1\n",
       "Name: board_disposition, dtype: int64"
      ]
     },
     "execution_count": 21,
     "metadata": {},
     "output_type": "execute_result"
    }
   ],
   "source": [
    "complaints['board_disposition'].value_counts()"
   ]
  },
  {
   "cell_type": "markdown",
   "metadata": {},
   "source": [
    "In quantifying the severeness of the punishment, we give a simple number rating rated by the [CCRB](https://www1.nyc.gov/site/ccrb/prosecution/police-discipline.page):\n",
    "- Unsubstantiated gives a severeness of 0, as no further action was taken against the officer.\n",
    "- Instructions and Formalized Training give a severeness of 3.\n",
    "- Command Discipline gives a severeness of 6, as the CCRB describes this penalty as more problematic than just \"poor training.\"\n",
    "- Charges gives a severeness of 8\n",
    "- Exonerated gives a severeness of 10.\n",
    "Other substantiated dispositions are worth 2, as they are not as severe."
   ]
  },
  {
   "cell_type": "code",
   "execution_count": 22,
   "metadata": {},
   "outputs": [],
   "source": [
    "subst_charges = {\n",
    "    'Charges':8,\n",
    "     'Formalized Training':3,\n",
    "     'Command Discipline A':6,\n",
    "     'Command Discipline':6,\n",
    "     'Command Discipline B':6,\n",
    "     'Command Lvl Instructions':6,\n",
    "     'Instructions':3,\n",
    "     'No Recommendations':2,\n",
    "     'MOS Unidentified':2\n",
    "}\n"
   ]
  },
  {
   "cell_type": "code",
   "execution_count": 23,
   "metadata": {},
   "outputs": [],
   "source": [
    "def severeness(disposition):\n",
    "    if disposition == 'Unsubstantiated':\n",
    "        return 0\n",
    "    elif disposition == 'Exonerated':\n",
    "        return 10\n",
    "    \n",
    "    # Get the cause \n",
    "    substantiated_case = disposition[disposition.find('(') + 1: disposition.find(')')]\n",
    "    return subst_charges[substantiated_case]"
   ]
  },
  {
   "cell_type": "code",
   "execution_count": 24,
   "metadata": {},
   "outputs": [
    {
     "data": {
      "text/plain": [
       "0     15448\n",
       "10     9609\n",
       "8      3796\n",
       "6      3058\n",
       "3      1281\n",
       "2       166\n",
       "Name: severeness, dtype: int64"
      ]
     },
     "execution_count": 24,
     "metadata": {},
     "output_type": "execute_result"
    }
   ],
   "source": [
    "complaints['severeness'] = complaints['board_disposition'].apply(severeness)\n",
    "complaints['severeness'].value_counts()"
   ]
  },
  {
   "cell_type": "markdown",
   "metadata": {},
   "source": [
    "Secondly, we wish to determine whether the officer's gender is the same as the "
   ]
  },
  {
   "cell_type": "code",
   "execution_count": 25,
   "metadata": {},
   "outputs": [
    {
     "data": {
      "text/plain": [
       "Male                     24058\n",
       "Female                    5021\n",
       "NaN                       4252\n",
       "Transwoman (MTF)            20\n",
       "Transman (FTM)               5\n",
       "Gender non-conforming        2\n",
       "Name: complainant_gender, dtype: int64"
      ]
     },
     "execution_count": 25,
     "metadata": {},
     "output_type": "execute_result"
    }
   ],
   "source": [
    "complaints['complainant_gender'].value_counts(dropna=False)"
   ]
  },
  {
   "cell_type": "code",
   "execution_count": 26,
   "metadata": {},
   "outputs": [
    {
     "data": {
      "text/plain": [
       "M    31598\n",
       "F     1760\n",
       "Name: mos_gender, dtype: int64"
      ]
     },
     "execution_count": 26,
     "metadata": {},
     "output_type": "execute_result"
    }
   ],
   "source": [
    "complaints['mos_gender'].value_counts(dropna=False)"
   ]
  },
  {
   "cell_type": "markdown",
   "metadata": {},
   "source": [
    "We must ethically consider the values of transgender and non male/female complainants. In this case, we will assume that a person belonging to LGBTQ+ assumes the role that they have personally declared, and not biological gender. We will also  keep the two nonbinary as neither male nor female. Since we are cleaning the complainant gender, we will also make it match the officer gender format."
   ]
  },
  {
   "cell_type": "code",
   "execution_count": 27,
   "metadata": {},
   "outputs": [],
   "source": [
    "conversions = {\n",
    "    'Male': 'M',\n",
    "    'Female': 'F',\n",
    "    'Transwoman (MTF)':'F',\n",
    "    'Transman (FTM)': 'M',\n",
    "    'Gender non-conforming': 'NB'\n",
    "}"
   ]
  },
  {
   "cell_type": "code",
   "execution_count": 28,
   "metadata": {},
   "outputs": [
    {
     "data": {
      "text/plain": [
       "M      24063\n",
       "F       5041\n",
       "NaN     4252\n",
       "NB         2\n",
       "Name: complainant_gender, dtype: int64"
      ]
     },
     "execution_count": 28,
     "metadata": {},
     "output_type": "execute_result"
    }
   ],
   "source": [
    "complaints['complainant_gender'] = complaints['complainant_gender'].replace(conversions)\n",
    "complaints['complainant_gender'].value_counts(dropna=False)"
   ]
  },
  {
   "cell_type": "markdown",
   "metadata": {},
   "source": [
    "We can now determine whether the officer gender matches the complainant gender."
   ]
  },
  {
   "cell_type": "code",
   "execution_count": 29,
   "metadata": {},
   "outputs": [
    {
     "data": {
      "text/plain": [
       "True     23707\n",
       "False     9651\n",
       "Name: same_gender, dtype: int64"
      ]
     },
     "execution_count": 29,
     "metadata": {},
     "output_type": "execute_result"
    }
   ],
   "source": [
    "complaints['same_gender'] = (complaints['complainant_gender'] == complaints['mos_gender'])\n",
    "complaints['same_gender'].value_counts()"
   ]
  },
  {
   "cell_type": "markdown",
   "metadata": {},
   "source": [
    "### Imputation of Null values\n",
    "\n",
    "We are given some information on how this data was generated; the generated data comes from a [website form](https://www1.nyc.gov/site/ccrb/complaints/file-online.page) from the CCRB, in which some of the columns in the dataset correspond to optional forms at times. Many of the given missing columns correspond to the fact that the form does not require these fields. You can also file a complaint for another victim as well."
   ]
  },
  {
   "cell_type": "code",
   "execution_count": 30,
   "metadata": {},
   "outputs": [
    {
     "data": {
      "text/plain": [
       "unique_mos_id                  0\n",
       "command_now                    0\n",
       "shield_no                   5392\n",
       "complaint_id                   0\n",
       "command_at_incident         1544\n",
       "rank_abbrev_incident           0\n",
       "rank_abbrev_now                0\n",
       "rank_now                       0\n",
       "rank_incident                  0\n",
       "mos_ethnicity                  0\n",
       "mos_gender                     0\n",
       "mos_age_incident               0\n",
       "complainant_ethnicity       5505\n",
       "complainant_gender          4252\n",
       "complainant_age_incident    4929\n",
       "fado_type                      0\n",
       "allegation                     1\n",
       "precinct                       0\n",
       "contact_reason               199\n",
       "outcome_description           56\n",
       "board_disposition              0\n",
       "received                       0\n",
       "closed                         0\n",
       "severeness                     0\n",
       "same_gender                    0\n",
       "dtype: int64"
      ]
     },
     "execution_count": 30,
     "metadata": {},
     "output_type": "execute_result"
    }
   ],
   "source": [
    "complaints.isnull().sum()"
   ]
  },
  {
   "cell_type": "markdown",
   "metadata": {},
   "source": [
    "Shield number cannot be imputated because shield number usually belongs to a given officer, and we cannot recover these numbers through imputation. We could search an officer's unique mos id to find other possible shield numbers tied to the id, but there are many cases in which the officer does not have other shield numbers as well."
   ]
  },
  {
   "cell_type": "code",
   "execution_count": 31,
   "metadata": {},
   "outputs": [
    {
     "data": {
      "text/plain": [
       "075 PCT    1364\n",
       "046 PCT     825\n",
       "044 PCT     763\n",
       "NARCBBN     746\n",
       "079 PCT     737\n",
       "           ... \n",
       "CA SECT       1\n",
       "A P DIV       1\n",
       "POL ACD       1\n",
       "COMMSEC       1\n",
       "032 DET       1\n",
       "Name: command_at_incident, Length: 361, dtype: int64"
      ]
     },
     "execution_count": 31,
     "metadata": {},
     "output_type": "execute_result"
    }
   ],
   "source": [
    "complaints['command_at_incident'].value_counts()"
   ]
  },
  {
   "cell_type": "markdown",
   "metadata": {},
   "source": [
    "One thing we must determine is the assessment of missingness in the mos_gender column, as this column contributes greatly to the overall data, especially when the column's null values are almost as much as female complainants."
   ]
  },
  {
   "cell_type": "code",
   "execution_count": 32,
   "metadata": {},
   "outputs": [
    {
     "data": {
      "text/plain": [
       "<AxesSubplot:title={'center':'Complainant Gender Count'}, xlabel='complainant_gender'>"
      ]
     },
     "execution_count": 32,
     "metadata": {},
     "output_type": "execute_result"
    },
    {
     "data": {
      "image/png": "[encoded data removed]",
      "text/plain": [
       "<Figure size 432x288 with 1 Axes>"
      ]
     },
     "metadata": {
      "image/png": {
       "height": 287,
       "width": 388
      },
      "needs_background": "light"
     },
     "output_type": "display_data"
    }
   ],
   "source": [
    "complaints.groupby('complainant_gender', dropna=False).size().plot(kind='bar', title='Complainant Gender Count')"
   ]
  },
  {
   "cell_type": "code",
   "execution_count": 33,
   "metadata": {},
   "outputs": [],
   "source": [
    "nulls = complaints['complainant_gender'].isnull()"
   ]
  },
  {
   "cell_type": "code",
   "execution_count": 34,
   "metadata": {},
   "outputs": [
    {
     "data": {
      "text/plain": [
       "Index(['complainant_ethnicity', 'complainant_gender',\n",
       "       'complainant_age_incident'],\n",
       "      dtype='object')"
      ]
     },
     "execution_count": 34,
     "metadata": {},
     "output_type": "execute_result"
    }
   ],
   "source": [
    "complainant_cols = complaints.columns[complaints.columns.str.contains('complainant')]\n",
    "complainant_cols"
   ]
  },
  {
   "cell_type": "code",
   "execution_count": 35,
   "metadata": {},
   "outputs": [
    {
     "data": {
      "text/plain": [
       "complainant_ethnicity       4212\n",
       "complainant_gender          4252\n",
       "complainant_age_incident    4159\n",
       "dtype: int64"
      ]
     },
     "execution_count": 35,
     "metadata": {},
     "output_type": "execute_result"
    }
   ],
   "source": [
    "complaints[nulls][complainant_cols].isnull().sum()"
   ]
  },
  {
   "cell_type": "markdown",
   "metadata": {},
   "source": [
    "### Exploratory Data Analysis"
   ]
  },
  {
   "cell_type": "markdown",
   "metadata": {},
   "source": [
    "Firstly, I want to search for variables that involve the severity of officers or the gender of complainants and police officers. Keep in note that a considerable amount of genders are null, which currently skew the amount of gender mismatches. For this, we will trim the dataframe for uninvolved columns, and nulls will also be considered, as they contribute significantly to the non-same gender group."
   ]
  },
  {
   "cell_type": "code",
   "execution_count": 36,
   "metadata": {},
   "outputs": [
    {
     "data": {
      "text/html": [
       "<div>\n",
       "<style scoped>\n",
       "    .dataframe tbody tr th:only-of-type {\n",
       "        vertical-align: middle;\n",
       "    }\n",
       "\n",
       "    .dataframe tbody tr th {\n",
       "        vertical-align: top;\n",
       "    }\n",
       "\n",
       "    .dataframe thead th {\n",
       "        text-align: right;\n",
       "    }\n",
       "</style>\n",
       "<table border=\"1\" class=\"dataframe\">\n",
       "  <thead>\n",
       "    <tr style=\"text-align: right;\">\n",
       "      <th></th>\n",
       "      <th>unique_mos_id</th>\n",
       "      <th>shield_no</th>\n",
       "      <th>fado_type</th>\n",
       "      <th>board_disposition</th>\n",
       "      <th>mos_gender</th>\n",
       "      <th>complainant_gender</th>\n",
       "      <th>severeness</th>\n",
       "      <th>same_gender</th>\n",
       "    </tr>\n",
       "  </thead>\n",
       "  <tbody>\n",
       "    <tr>\n",
       "      <th>0</th>\n",
       "      <td>10004</td>\n",
       "      <td>8409.0</td>\n",
       "      <td>Abuse of Authority</td>\n",
       "      <td>Substantiated (Command Lvl Instructions)</td>\n",
       "      <td>M</td>\n",
       "      <td>F</td>\n",
       "      <td>6</td>\n",
       "      <td>False</td>\n",
       "    </tr>\n",
       "    <tr>\n",
       "      <th>1</th>\n",
       "      <td>10007</td>\n",
       "      <td>5952.0</td>\n",
       "      <td>Discourtesy</td>\n",
       "      <td>Substantiated (Charges)</td>\n",
       "      <td>M</td>\n",
       "      <td>M</td>\n",
       "      <td>8</td>\n",
       "      <td>True</td>\n",
       "    </tr>\n",
       "    <tr>\n",
       "      <th>2</th>\n",
       "      <td>10007</td>\n",
       "      <td>5952.0</td>\n",
       "      <td>Offensive Language</td>\n",
       "      <td>Substantiated (Charges)</td>\n",
       "      <td>M</td>\n",
       "      <td>M</td>\n",
       "      <td>8</td>\n",
       "      <td>True</td>\n",
       "    </tr>\n",
       "    <tr>\n",
       "      <th>3</th>\n",
       "      <td>10007</td>\n",
       "      <td>5952.0</td>\n",
       "      <td>Abuse of Authority</td>\n",
       "      <td>Substantiated (Charges)</td>\n",
       "      <td>M</td>\n",
       "      <td>M</td>\n",
       "      <td>8</td>\n",
       "      <td>True</td>\n",
       "    </tr>\n",
       "    <tr>\n",
       "      <th>4</th>\n",
       "      <td>10009</td>\n",
       "      <td>24058.0</td>\n",
       "      <td>Force</td>\n",
       "      <td>Substantiated (Command Discipline A)</td>\n",
       "      <td>F</td>\n",
       "      <td>NaN</td>\n",
       "      <td>6</td>\n",
       "      <td>False</td>\n",
       "    </tr>\n",
       "    <tr>\n",
       "      <th>...</th>\n",
       "      <td>...</td>\n",
       "      <td>...</td>\n",
       "      <td>...</td>\n",
       "      <td>...</td>\n",
       "      <td>...</td>\n",
       "      <td>...</td>\n",
       "      <td>...</td>\n",
       "      <td>...</td>\n",
       "    </tr>\n",
       "    <tr>\n",
       "      <th>33353</th>\n",
       "      <td>9992</td>\n",
       "      <td>2642.0</td>\n",
       "      <td>Discourtesy</td>\n",
       "      <td>Unsubstantiated</td>\n",
       "      <td>M</td>\n",
       "      <td>M</td>\n",
       "      <td>0</td>\n",
       "      <td>True</td>\n",
       "    </tr>\n",
       "    <tr>\n",
       "      <th>33354</th>\n",
       "      <td>9992</td>\n",
       "      <td>2642.0</td>\n",
       "      <td>Abuse of Authority</td>\n",
       "      <td>Unsubstantiated</td>\n",
       "      <td>M</td>\n",
       "      <td>M</td>\n",
       "      <td>0</td>\n",
       "      <td>True</td>\n",
       "    </tr>\n",
       "    <tr>\n",
       "      <th>33355</th>\n",
       "      <td>9992</td>\n",
       "      <td>2642.0</td>\n",
       "      <td>Abuse of Authority</td>\n",
       "      <td>Substantiated (Formalized Training)</td>\n",
       "      <td>M</td>\n",
       "      <td>M</td>\n",
       "      <td>3</td>\n",
       "      <td>True</td>\n",
       "    </tr>\n",
       "    <tr>\n",
       "      <th>33356</th>\n",
       "      <td>9992</td>\n",
       "      <td>2642.0</td>\n",
       "      <td>Abuse of Authority</td>\n",
       "      <td>Substantiated (Formalized Training)</td>\n",
       "      <td>M</td>\n",
       "      <td>M</td>\n",
       "      <td>3</td>\n",
       "      <td>True</td>\n",
       "    </tr>\n",
       "    <tr>\n",
       "      <th>33357</th>\n",
       "      <td>9992</td>\n",
       "      <td>2642.0</td>\n",
       "      <td>Abuse of Authority</td>\n",
       "      <td>Substantiated (Formalized Training)</td>\n",
       "      <td>M</td>\n",
       "      <td>M</td>\n",
       "      <td>3</td>\n",
       "      <td>True</td>\n",
       "    </tr>\n",
       "  </tbody>\n",
       "</table>\n",
       "<p>33358 rows × 8 columns</p>\n",
       "</div>"
      ],
      "text/plain": [
       "       unique_mos_id  shield_no           fado_type  \\\n",
       "0              10004     8409.0  Abuse of Authority   \n",
       "1              10007     5952.0         Discourtesy   \n",
       "2              10007     5952.0  Offensive Language   \n",
       "3              10007     5952.0  Abuse of Authority   \n",
       "4              10009    24058.0               Force   \n",
       "...              ...        ...                 ...   \n",
       "33353           9992     2642.0         Discourtesy   \n",
       "33354           9992     2642.0  Abuse of Authority   \n",
       "33355           9992     2642.0  Abuse of Authority   \n",
       "33356           9992     2642.0  Abuse of Authority   \n",
       "33357           9992     2642.0  Abuse of Authority   \n",
       "\n",
       "                              board_disposition mos_gender complainant_gender  \\\n",
       "0      Substantiated (Command Lvl Instructions)          M                  F   \n",
       "1                       Substantiated (Charges)          M                  M   \n",
       "2                       Substantiated (Charges)          M                  M   \n",
       "3                       Substantiated (Charges)          M                  M   \n",
       "4          Substantiated (Command Discipline A)          F                NaN   \n",
       "...                                         ...        ...                ...   \n",
       "33353                           Unsubstantiated          M                  M   \n",
       "33354                           Unsubstantiated          M                  M   \n",
       "33355       Substantiated (Formalized Training)          M                  M   \n",
       "33356       Substantiated (Formalized Training)          M                  M   \n",
       "33357       Substantiated (Formalized Training)          M                  M   \n",
       "\n",
       "       severeness  same_gender  \n",
       "0               6        False  \n",
       "1               8         True  \n",
       "2               8         True  \n",
       "3               8         True  \n",
       "4               6        False  \n",
       "...           ...          ...  \n",
       "33353           0         True  \n",
       "33354           0         True  \n",
       "33355           3         True  \n",
       "33356           3         True  \n",
       "33357           3         True  \n",
       "\n",
       "[33358 rows x 8 columns]"
      ]
     },
     "execution_count": 36,
     "metadata": {},
     "output_type": "execute_result"
    }
   ],
   "source": [
    "gender = complaints[['unique_mos_id', 'shield_no', 'fado_type', 'board_disposition', 'mos_gender','complainant_gender','severeness', 'same_gender']]\n",
    "gender"
   ]
  },
  {
   "cell_type": "code",
   "execution_count": 37,
   "metadata": {},
   "outputs": [
    {
     "data": {
      "text/plain": [
       "29106"
      ]
     },
     "execution_count": 37,
     "metadata": {},
     "output_type": "execute_result"
    }
   ],
   "source": [
    "gender_no_null = gender[gender['complainant_gender'].isnull() != True]\n",
    "gender_no_null.shape[0]"
   ]
  },
  {
   "cell_type": "code",
   "execution_count": 38,
   "metadata": {},
   "outputs": [
    {
     "data": {
      "text/plain": [
       "<AxesSubplot:title={'center':'Complainant gender distribution'}, xlabel='complainant_gender'>"
      ]
     },
     "execution_count": 38,
     "metadata": {},
     "output_type": "execute_result"
    },
    {
     "data": {
      "image/png": "[encoded data removed]",
      "text/plain": [
       "<Figure size 432x288 with 1 Axes>"
      ]
     },
     "metadata": {
      "image/png": {
       "height": 287,
       "width": 372
      },
      "needs_background": "light"
     },
     "output_type": "display_data"
    }
   ],
   "source": [
    "(gender.groupby('complainant_gender', dropna=False).size() / gender.shape[0]).plot(kind='bar', title='Complainant gender distribution')"
   ]
  },
  {
   "cell_type": "code",
   "execution_count": 39,
   "metadata": {},
   "outputs": [
    {
     "data": {
      "text/plain": [
       "<AxesSubplot:title={'center':'Severeness of punishment by same gender (counting nulls as false)'}, ylabel='Same Gender'>"
      ]
     },
     "execution_count": 39,
     "metadata": {},
     "output_type": "execute_result"
    },
    {
     "data": {
      "image/png": "[encoded data removed]",
      "text/plain": [
       "<Figure size 432x288 with 1 Axes>"
      ]
     },
     "metadata": {
      "image/png": {
       "height": 263,
       "width": 431
      },
      "needs_background": "light"
     },
     "output_type": "display_data"
    }
   ],
   "source": [
    "gender.groupby('same_gender').mean()['severeness'].plot(kind='barh', title='Severeness of punishment by same gender (counting nulls as false)', xlabel='Same Gender')"
   ]
  },
  {
   "cell_type": "code",
   "execution_count": 40,
   "metadata": {},
   "outputs": [
    {
     "data": {
      "text/plain": [
       "<AxesSubplot:title={'center':'Average severeness of punishment by same gender (counting nulls as false)'}, ylabel='Same Gender'>"
      ]
     },
     "execution_count": 40,
     "metadata": {},
     "output_type": "execute_result"
    },
    {
     "data": {
      "image/png": "[encoded data removed]",
      "text/plain": [
       "<Figure size 432x288 with 1 Axes>"
      ]
     },
     "metadata": {
      "image/png": {
       "height": 263,
       "width": 473
      },
      "needs_background": "light"
     },
     "output_type": "display_data"
    }
   ],
   "source": [
    "gender_no_null.groupby('same_gender').mean()['severeness'].plot(kind='barh', title='Average severeness of punishment by same gender (counting nulls as false)', xlabel='Same Gender')"
   ]
  },
  {
   "cell_type": "code",
   "execution_count": 41,
   "metadata": {},
   "outputs": [
    {
     "data": {
      "text/plain": [
       "<matplotlib.legend.Legend at 0x7f5df08e1c10>"
      ]
     },
     "execution_count": 41,
     "metadata": {},
     "output_type": "execute_result"
    },
    {
     "data": {
      "image/png": "[encoded data removed]",
      "text/plain": [
       "<Figure size 432x288 with 1 Axes>"
      ]
     },
     "metadata": {
      "image/png": {
       "height": 277,
       "width": 392
      },
      "needs_background": "light"
     },
     "output_type": "display_data"
    }
   ],
   "source": [
    "sns.kdeplot(data=gender[gender['same_gender'] != True], x='severeness', color='#FFC20A', label='Not same gender')\n",
    "sns.kdeplot(data=gender[gender['same_gender']], x='severeness', color='#0C7BDC', label='Same Gender')\n",
    "plt.title('Severeness distribution based on same gender')\n",
    "plt.legend()"
   ]
  },
  {
   "cell_type": "code",
   "execution_count": 42,
   "metadata": {},
   "outputs": [
    {
     "data": {
      "text/plain": [
       "<matplotlib.legend.Legend at 0x7f5df0c4cbb0>"
      ]
     },
     "execution_count": 42,
     "metadata": {},
     "output_type": "execute_result"
    },
    {
     "data": {
      "image/png": "[encoded data removed]",
      "text/plain": [
       "<Figure size 432x288 with 1 Axes>"
      ]
     },
     "metadata": {
      "image/png": {
       "height": 277,
       "width": 411
      },
      "needs_background": "light"
     },
     "output_type": "display_data"
    }
   ],
   "source": [
    "sns.kdeplot(data=gender_no_null[gender_no_null['same_gender'] != True], x='severeness', color='#FFC20A', label='Not same gender')\n",
    "sns.kdeplot(data=gender_no_null[gender_no_null['same_gender']], x='severeness', color='#0C7BDC', label='Same Gender')\n",
    "plt.title('Severeness distribution based on same gender (without nulls)')\n",
    "plt.legend()"
   ]
  },
  {
   "cell_type": "markdown",
   "metadata": {},
   "source": [
    "One thing that is noticed is the presence of more unsubstantiated/0-level severeness claims when the gender is the same, which could hint that the board disposition is more severe when the gender does not match. It is also interesting that the null values contribute greatly to the difference in data as well, so we should first clean this column further."
   ]
  },
  {
   "cell_type": "markdown",
   "metadata": {},
   "source": [
    "We would also like to understand the distribution of severeness as well."
   ]
  },
  {
   "cell_type": "code",
   "execution_count": 43,
   "metadata": {},
   "outputs": [
    {
     "data": {
      "text/plain": [
       "<AxesSubplot:xlabel='severeness', ylabel='Count'>"
      ]
     },
     "execution_count": 43,
     "metadata": {},
     "output_type": "execute_result"
    },
    {
     "data": {
      "image/png": "[encoded data removed]",
      "text/plain": [
       "<Figure size 432x288 with 1 Axes>"
      ]
     },
     "metadata": {
      "image/png": {
       "height": 262,
       "width": 401
      },
      "needs_background": "light"
     },
     "output_type": "display_data"
    }
   ],
   "source": [
    "sns.histplot(data=gender, x='severeness')"
   ]
  },
  {
   "cell_type": "markdown",
   "metadata": {},
   "source": [
    "## Assessment of Missingness"
   ]
  },
  {
   "cell_type": "code",
   "execution_count": 44,
   "metadata": {},
   "outputs": [
    {
     "data": {
      "text/plain": [
       "unique_mos_id                  0\n",
       "command_now                    0\n",
       "shield_no                   5392\n",
       "complaint_id                   0\n",
       "command_at_incident         1544\n",
       "rank_abbrev_incident           0\n",
       "rank_abbrev_now                0\n",
       "rank_now                       0\n",
       "rank_incident                  0\n",
       "mos_ethnicity                  0\n",
       "mos_gender                     0\n",
       "mos_age_incident               0\n",
       "complainant_ethnicity       5505\n",
       "complainant_gender          4252\n",
       "complainant_age_incident    4929\n",
       "fado_type                      0\n",
       "allegation                     1\n",
       "precinct                       0\n",
       "contact_reason               199\n",
       "outcome_description           56\n",
       "board_disposition              0\n",
       "received                       0\n",
       "closed                         0\n",
       "severeness                     0\n",
       "same_gender                    0\n",
       "dtype: int64"
      ]
     },
     "execution_count": 44,
     "metadata": {},
     "output_type": "execute_result"
    }
   ],
   "source": [
    "complaints.isnull().sum()"
   ]
  },
  {
   "cell_type": "markdown",
   "metadata": {
    "ExecuteTime": {
     "end_time": "2019-10-31T23:36:28.662099Z",
     "start_time": "2019-10-31T23:36:28.660016Z"
    }
   },
   "source": [
    "There are a few number of columns that are missing. We will cover them in order as seen above. If a value is suspected to be MCAR or NI, it will be stated here:\n",
    "- ```shield_no``` is missing completely at random because the missingness of the shield number is not dependent on other columns nor the true value of the column. This is the same reason that imputation cannot happen.\n",
    "- ```command_at_incident ```\n",
    "- ```complainant_ethnicity```\n",
    "- ```complainant_age_incident```\n",
    "- ```allegation``` is most likely missing completely at random, as we cannot be sure if the data is reliant on other columns through only one observation. It could also possibly be missing at random due to the fact that the case was unsubstantiated, possibly due to the lack of information.\n",
    "- ```contact_reason``` -\n",
    "- ```outcome_description```"
   ]
  },
  {
   "cell_type": "code",
   "execution_count": 45,
   "metadata": {},
   "outputs": [
    {
     "data": {
      "text/html": [
       "<div>\n",
       "<style scoped>\n",
       "    .dataframe tbody tr th:only-of-type {\n",
       "        vertical-align: middle;\n",
       "    }\n",
       "\n",
       "    .dataframe tbody tr th {\n",
       "        vertical-align: top;\n",
       "    }\n",
       "\n",
       "    .dataframe thead th {\n",
       "        text-align: right;\n",
       "    }\n",
       "</style>\n",
       "<table border=\"1\" class=\"dataframe\">\n",
       "  <thead>\n",
       "    <tr style=\"text-align: right;\">\n",
       "      <th></th>\n",
       "      <th>unique_mos_id</th>\n",
       "      <th>command_now</th>\n",
       "      <th>shield_no</th>\n",
       "      <th>complaint_id</th>\n",
       "      <th>command_at_incident</th>\n",
       "      <th>rank_abbrev_incident</th>\n",
       "      <th>rank_abbrev_now</th>\n",
       "      <th>rank_now</th>\n",
       "      <th>rank_incident</th>\n",
       "      <th>mos_ethnicity</th>\n",
       "      <th>...</th>\n",
       "      <th>fado_type</th>\n",
       "      <th>allegation</th>\n",
       "      <th>precinct</th>\n",
       "      <th>contact_reason</th>\n",
       "      <th>outcome_description</th>\n",
       "      <th>board_disposition</th>\n",
       "      <th>received</th>\n",
       "      <th>closed</th>\n",
       "      <th>severeness</th>\n",
       "      <th>same_gender</th>\n",
       "    </tr>\n",
       "  </thead>\n",
       "  <tbody>\n",
       "    <tr>\n",
       "      <th>3982</th>\n",
       "      <td>15188</td>\n",
       "      <td>120 PCT</td>\n",
       "      <td>1517.0</td>\n",
       "      <td>860</td>\n",
       "      <td>NaN</td>\n",
       "      <td>PO</td>\n",
       "      <td>SGT</td>\n",
       "      <td>Sergeant</td>\n",
       "      <td>Police Officer</td>\n",
       "      <td>White</td>\n",
       "      <td>...</td>\n",
       "      <td>Force</td>\n",
       "      <td>NaN</td>\n",
       "      <td>70.0</td>\n",
       "      <td>Patrol Encounter</td>\n",
       "      <td>No arrest made or summons issued</td>\n",
       "      <td>Unsubstantiated</td>\n",
       "      <td>1989-05-01</td>\n",
       "      <td>1989-05-01</td>\n",
       "      <td>0</td>\n",
       "      <td>False</td>\n",
       "    </tr>\n",
       "  </tbody>\n",
       "</table>\n",
       "<p>1 rows × 25 columns</p>\n",
       "</div>"
      ],
      "text/plain": [
       "      unique_mos_id command_now  shield_no  complaint_id command_at_incident  \\\n",
       "3982          15188     120 PCT     1517.0           860                 NaN   \n",
       "\n",
       "     rank_abbrev_incident rank_abbrev_now  rank_now   rank_incident  \\\n",
       "3982                   PO             SGT  Sergeant  Police Officer   \n",
       "\n",
       "     mos_ethnicity  ... fado_type  allegation precinct    contact_reason  \\\n",
       "3982         White  ...     Force         NaN     70.0  Patrol Encounter   \n",
       "\n",
       "                   outcome_description board_disposition   received  \\\n",
       "3982  No arrest made or summons issued   Unsubstantiated 1989-05-01   \n",
       "\n",
       "         closed severeness same_gender  \n",
       "3982 1989-05-01          0       False  \n",
       "\n",
       "[1 rows x 25 columns]"
      ]
     },
     "execution_count": 45,
     "metadata": {},
     "output_type": "execute_result"
    }
   ],
   "source": [
    "complaints[complaints['allegation'].isnull()]"
   ]
  },
  {
   "cell_type": "markdown",
   "metadata": {},
   "source": [
    "Reasonable columns that can be used to test for MAR are the following, as the others do not have a great relation or are too specific:\n",
    "- rank_abbrev_incident and rank_abbrev_now\n",
    "- fado_type\n",
    "- mos age, ethnicity, and gender\n",
    "- allegations\n",
    "- board disposition (severeness is possibly better)\n"
   ]
  },
  {
   "cell_type": "markdown",
   "metadata": {},
   "source": [
    "### Missingness classification"
   ]
  },
  {
   "cell_type": "markdown",
   "metadata": {},
   "source": [
    "We will identify the type of missingness for the unclear missing columns. "
   ]
  },
  {
   "cell_type": "code",
   "execution_count": 46,
   "metadata": {},
   "outputs": [],
   "source": [
    "categoricals = 'rank_abbrev_incident', 'rank_abbrev_now', 'fado_type', 'mos_ethnicity', 'mos_gender', 'allegation', 'allegation'\n",
    "ordinals = 'mos_age_incident', 'severeness'"
   ]
  },
  {
   "cell_type": "code",
   "execution_count": 47,
   "metadata": {},
   "outputs": [],
   "source": [
    "def tvd(dist1, dist2):\n",
    "    return (dist1 - dist2).abs().sum() / 2"
   ]
  },
  {
   "cell_type": "code",
   "execution_count": 48,
   "metadata": {},
   "outputs": [],
   "source": [
    "def null_permutation_test(dataset, missing_col, suspected_col, repetitions=100):\n",
    "    \"\"\" Returns the p value of the likely hood that the two distributions are generated the same way, with the suspected column being quantitative.\"\"\"\n",
    "    repetitions = 1000\n",
    "    tvds = np.zeros(repetitions)\n",
    "    \n",
    "    is_null = dataset[missing_col].isnull()\n",
    "    obs_dist_null = dataset[is_null][suspected_col].value_counts(normalize=True)\n",
    "    obs_dist_non_null = dataset[~is_null][suspected_col].value_counts(normalize=True)\n",
    "    observed = tvd(obs_dist_null, obs_dist_non_null)\n",
    "    \n",
    "    # Get test stat from permuted nulls\n",
    "    for i in range(repetitions):\n",
    "        # Shuffle null column\n",
    "        is_null = np.random.permutation(is_null)\n",
    "        null_dist = dataset[suspected_col][is_null].value_counts(normalize=True)\n",
    "        non_null_dist = dataset[suspected_col][~is_null].value_counts(normalize=True)\n",
    "        tvds[i] = tvd(null_dist, non_null_dist)\n",
    "        \n",
    "    return np.mean(tvds >= observed)"
   ]
  },
  {
   "cell_type": "code",
   "execution_count": 49,
   "metadata": {},
   "outputs": [],
   "source": [
    "def null_ks_2samp(data, missing_col, suspected_col):\n",
    "    \"\"\" Calculate p value of numerical columns compared with the null values of missing column\"\"\"\n",
    "    nulls = data[missing_col].isnull()\n",
    "    return ks_2samp(data[suspected_col][nulls], data[suspected_col][~nulls]).pvalue"
   ]
  },
  {
   "cell_type": "code",
   "execution_count": 50,
   "metadata": {},
   "outputs": [],
   "source": [
    "def get_relations(data, missing_col):\n",
    "    \"\"\" Get the simulated probabilities that missingness of the missing column is dependent on other columns.\"\"\"\n",
    "    p_values = {}\n",
    "    for nominal in categoricals:\n",
    "        p_values[nominal] = null_permutation_test(data, missing_col, nominal)\n",
    "    \n",
    "    for ordinal in ordinals:\n",
    "        p_values[ordinal] = null_ks_2samp(data, missing_col, ordinal)\n",
    "        \n",
    "    return p_values"
   ]
  },
  {
   "cell_type": "code",
   "execution_count": 51,
   "metadata": {},
   "outputs": [
    {
     "data": {
      "text/plain": [
       "{'rank_abbrev_incident': 0.0,\n",
       " 'rank_abbrev_now': 0.0,\n",
       " 'fado_type': 0.0,\n",
       " 'mos_ethnicity': 0.0,\n",
       " 'mos_gender': 0.0,\n",
       " 'allegation': 0.0,\n",
       " 'mos_age_incident': 9.024556035686833e-208,\n",
       " 'severeness': 1.6579991421420407e-29}"
      ]
     },
     "execution_count": 51,
     "metadata": {},
     "output_type": "execute_result"
    }
   ],
   "source": [
    "get_relations(complaints, 'command_at_incident')"
   ]
  },
  {
   "cell_type": "code",
   "execution_count": 52,
   "metadata": {},
   "outputs": [
    {
     "data": {
      "text/plain": [
       "{'rank_abbrev_incident': 0.0,\n",
       " 'rank_abbrev_now': 0.0,\n",
       " 'fado_type': 0.0,\n",
       " 'mos_ethnicity': 0.0,\n",
       " 'mos_gender': 0.0,\n",
       " 'allegation': 0.0,\n",
       " 'mos_age_incident': 1.0395155513821507e-11,\n",
       " 'severeness': 4.049622393956761e-41}"
      ]
     },
     "execution_count": 52,
     "metadata": {},
     "output_type": "execute_result"
    }
   ],
   "source": [
    "get_relations(complaints, 'complainant_ethnicity')"
   ]
  },
  {
   "cell_type": "code",
   "execution_count": 53,
   "metadata": {},
   "outputs": [
    {
     "data": {
      "text/plain": [
       "{'rank_abbrev_incident': 0.0,\n",
       " 'rank_abbrev_now': 0.0,\n",
       " 'fado_type': 0.0,\n",
       " 'mos_ethnicity': 0.0,\n",
       " 'mos_gender': 0.0,\n",
       " 'allegation': 0.0,\n",
       " 'mos_age_incident': 7.96148098406147e-14,\n",
       " 'severeness': 2.0817992505975204e-45}"
      ]
     },
     "execution_count": 53,
     "metadata": {},
     "output_type": "execute_result"
    }
   ],
   "source": [
    "get_relations(complaints, 'complainant_age_incident')"
   ]
  },
  {
   "cell_type": "code",
   "execution_count": 54,
   "metadata": {},
   "outputs": [
    {
     "data": {
      "text/plain": [
       "{'rank_abbrev_incident': 0.319,\n",
       " 'rank_abbrev_now': 0.0,\n",
       " 'fado_type': 0.058,\n",
       " 'mos_ethnicity': 0.095,\n",
       " 'mos_gender': 0.76,\n",
       " 'allegation': 0.0,\n",
       " 'mos_age_incident': 1.2485026052229808e-05,\n",
       " 'severeness': 0.9721413637391787}"
      ]
     },
     "execution_count": 54,
     "metadata": {},
     "output_type": "execute_result"
    }
   ],
   "source": [
    "get_relations(complaints, 'contact_reason')"
   ]
  },
  {
   "cell_type": "code",
   "execution_count": 55,
   "metadata": {},
   "outputs": [
    {
     "data": {
      "text/plain": [
       "{'rank_abbrev_incident': 0.062,\n",
       " 'rank_abbrev_now': 0.0,\n",
       " 'fado_type': 0.005,\n",
       " 'mos_ethnicity': 0.037,\n",
       " 'mos_gender': 0.067,\n",
       " 'allegation': 0.002,\n",
       " 'mos_age_incident': 0.011843266387977391,\n",
       " 'severeness': 0.6141879369323828}"
      ]
     },
     "execution_count": 55,
     "metadata": {},
     "output_type": "execute_result"
    }
   ],
   "source": [
    "get_relations(complaints, 'outcome_description')"
   ]
  },
  {
   "cell_type": "markdown",
   "metadata": {},
   "source": [
    "From these tests, we identify the following columns with given missingness:\n",
    "- command_at_incident, complainant_ethnicity, complainant_age_incident, contact_reason, and outcome_description are all **MAR**."
   ]
  },
  {
   "cell_type": "markdown",
   "metadata": {},
   "source": [
    "### Hypothesis Test"
   ]
  },
  {
   "cell_type": "markdown",
   "metadata": {
    "ExecuteTime": {
     "end_time": "2019-10-31T23:36:28.666489Z",
     "start_time": "2019-10-31T23:36:28.664381Z"
    }
   },
   "source": [
    "We can choose to ignore or include the ethnicities of the complainant's gender. To do this, we can use the null_ks_2samp function to find the probability that the distributions are the same. We will cover imputated and non-imputated cases for this question.\n",
    "\n",
    "- Null hypothesis: The difference of gender between officer and complainant have no significance on the severeness of the punishment given by the board.\n",
    "- Alternative hypothesis: The difference of gender between officer and complainant bear significance on the severeness of the punishment given by the board.\n",
    "- Test statistic: Mean\n",
    "- P value cutoff: .05"
   ]
  },
  {
   "cell_type": "code",
   "execution_count": 56,
   "metadata": {},
   "outputs": [],
   "source": [
    "not_same_gender = gender_no_null[gender_no_null['same_gender'] != True]\n",
    "same_gender = gender_no_null[gender_no_null['same_gender']]"
   ]
  },
  {
   "cell_type": "code",
   "execution_count": 57,
   "metadata": {},
   "outputs": [
    {
     "data": {
      "text/plain": [
       "KstestResult(statistic=0.03112882717173515, pvalue=0.000388827479000242)"
      ]
     },
     "execution_count": 57,
     "metadata": {},
     "output_type": "execute_result"
    }
   ],
   "source": [
    "ks_2samp(not_same_gender['severeness'], same_gender['severeness'])"
   ]
  },
  {
   "cell_type": "markdown",
   "metadata": {},
   "source": [
    "We might wish to also visualize the difference, so we can also use a permutation test to determine whether the distributions are different, with the test statistic being the mean of each group:"
   ]
  },
  {
   "cell_type": "code",
   "execution_count": 58,
   "metadata": {},
   "outputs": [
    {
     "data": {
      "text/plain": [
       "0.1781571982388277"
      ]
     },
     "execution_count": 58,
     "metadata": {},
     "output_type": "execute_result"
    }
   ],
   "source": [
    "observed = same_gender['severeness'].mean() - not_same_gender['severeness'].mean()\n",
    "observed"
   ]
  },
  {
   "cell_type": "code",
   "execution_count": 59,
   "metadata": {},
   "outputs": [],
   "source": [
    "iterations = 1000\n",
    "means = np.zeros(iterations)\n",
    "\n",
    "groups = gender_no_null['same_gender']\n",
    "severeness_col = gender_no_null['severeness']\n",
    "for i in range(iterations):\n",
    "    # Shuffle the missing columns\n",
    "    groups = np.random.permutation(groups)\n",
    "    # Get distribution of both groups\n",
    "    same_gen_dist = severeness_col[groups].mean()\n",
    "    diff_gen_dist = severeness_col[~groups].mean()\n",
    "    means[i] = same_gen_dist - diff_gen_dist"
   ]
  },
  {
   "cell_type": "code",
   "execution_count": 60,
   "metadata": {},
   "outputs": [
    {
     "data": {
      "text/plain": [
       "Text(0.5, 1.0, 'Permutation test results')"
      ]
     },
     "execution_count": 60,
     "metadata": {},
     "output_type": "execute_result"
    },
    {
     "data": {
      "image/png": "[encoded data removed]",
      "text/plain": [
       "<Figure size 432x288 with 1 Axes>"
      ]
     },
     "metadata": {
      "image/png": {
       "height": 263,
       "width": 375
      },
      "needs_background": "light"
     },
     "output_type": "display_data"
    }
   ],
   "source": [
    "plt.hist(x=means)\n",
    "plt.vlines(x=observed, ymin=0, ymax=100, color='red')\n",
    "plt.title('Permutation test results')"
   ]
  },
  {
   "cell_type": "markdown",
   "metadata": {},
   "source": [
    "Because the majority of the graph is to the left of observed, we should compute the probability that we see a value more than the observed value:"
   ]
  },
  {
   "cell_type": "code",
   "execution_count": 61,
   "metadata": {},
   "outputs": [
    {
     "data": {
      "text/plain": [
       "0.006"
      ]
     },
     "execution_count": 61,
     "metadata": {},
     "output_type": "execute_result"
    }
   ],
   "source": [
    "np.mean(means > observed)"
   ]
  },
  {
   "cell_type": "markdown",
   "metadata": {},
   "source": [
    "We get a value that rejects the null hypothesis and are more inclined to accept the alternative hypothesis stating that **complaints among the same gender are on average are correlated with more severe punishments than complaints with the officer having a different gender than the complainant**."
   ]
  },
  {
   "cell_type": "markdown",
   "metadata": {},
   "source": [
    "Because we are using observed data, we cannot assume that the two variables have a causal relationship however."
   ]
  },
  {
   "cell_type": "markdown",
   "metadata": {},
   "source": [
    "## Conclusion"
   ]
  },
  {
   "cell_type": "markdown",
   "metadata": {},
   "source": [
    "While we do see that there is a correlation between the gender difference and severeness, there are possible flaws in such an approach. The most obvious one is the weighting of the board decisions, as the changing of these weights could yield a different result. There is also some uncertainty with the data due to the missingness of some of the complainant genders as well."
   ]
  },
  {
   "cell_type": "markdown",
   "metadata": {},
   "source": [
    "This question could be further improved with a machine learning model that could help imputate the complainant gender column. Another way to improve this question's reliability would be to imputate using the demographics of New York as well."
   ]
  }
 ],
 "metadata": {
  "kernelspec": {
   "display_name": "Python 3",
   "language": "python",
   "name": "python3"
  },
  "language_info": {
   "codemirror_mode": {
    "name": "ipython",
    "version": 3
   },
   "file_extension": ".py",
   "mimetype": "text/x-python",
   "name": "python",
   "nbconvert_exporter": "python",
   "pygments_lexer": "ipython3",
   "version": "3.10.4"
  }
 },
 "nbformat": 4,
 "nbformat_minor": 2
}
